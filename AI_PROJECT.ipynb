{
  "cells": [
    {
      "cell_type": "markdown",
      "metadata": {
        "id": "X6EkNDsk9yKq"
      },
      "source": [
        "# Facial Emotion Recognition using Machine learning.\n",
        "Starting with connecting our colab file with drive. So, instead of running everything again and again we can continue our work from leaving point\n"
      ]
    },
    {
      "cell_type": "code",
      "execution_count": null,
      "metadata": {
        "colab": {
          "base_uri": "https://localhost:8080/"
        },
        "id": "zErumPKhjQy6",
        "outputId": "08c34389-5b77-4302-c2db-9430fdbf7a76"
      },
      "outputs": [
        {
          "name": "stdout",
          "output_type": "stream",
          "text": [
            "Mounted at /content/mydrive\n"
          ]
        }
      ],
      "source": [
        "from google.colab import drive\n",
        "drive.mount('/content/mydrive')"
      ]
    },
    {
      "cell_type": "markdown",
      "metadata": {
        "id": "0DmVBkwj-31h"
      },
      "source": [
        "We will be working with kaggle so starting with its installation."
      ]
    },
    {
      "cell_type": "code",
      "execution_count": null,
      "metadata": {
        "colab": {
          "base_uri": "https://localhost:8080/"
        },
        "id": "lTuvGTVxqSps",
        "outputId": "4ec8ea55-87df-4a5d-e5ba-ef72cf1e1ef3"
      },
      "outputs": [
        {
          "name": "stdout",
          "output_type": "stream",
          "text": [
            "Looking in indexes: https://pypi.org/simple, https://us-python.pkg.dev/colab-wheels/public/simple/\n",
            "Requirement already satisfied: kaggle in /usr/local/lib/python3.8/dist-packages (1.5.12)\n",
            "Requirement already satisfied: python-dateutil in /usr/local/lib/python3.8/dist-packages (from kaggle) (2.8.2)\n",
            "Requirement already satisfied: requests in /usr/local/lib/python3.8/dist-packages (from kaggle) (2.25.1)\n",
            "Requirement already satisfied: python-slugify in /usr/local/lib/python3.8/dist-packages (from kaggle) (8.0.0)\n",
            "Requirement already satisfied: tqdm in /usr/local/lib/python3.8/dist-packages (from kaggle) (4.64.1)\n",
            "Requirement already satisfied: urllib3 in /usr/local/lib/python3.8/dist-packages (from kaggle) (1.24.3)\n",
            "Requirement already satisfied: six>=1.10 in /usr/local/lib/python3.8/dist-packages (from kaggle) (1.15.0)\n",
            "Requirement already satisfied: certifi in /usr/local/lib/python3.8/dist-packages (from kaggle) (2022.12.7)\n",
            "Requirement already satisfied: text-unidecode>=1.3 in /usr/local/lib/python3.8/dist-packages (from python-slugify->kaggle) (1.3)\n",
            "Requirement already satisfied: chardet<5,>=3.0.2 in /usr/local/lib/python3.8/dist-packages (from requests->kaggle) (4.0.0)\n",
            "Requirement already satisfied: idna<3,>=2.5 in /usr/local/lib/python3.8/dist-packages (from requests->kaggle) (2.10)\n"
          ]
        }
      ],
      "source": [
        "!pip install kaggle"
      ]
    },
    {
      "cell_type": "markdown",
      "metadata": {
        "id": "YHwk5EWDBHce"
      },
      "source": [
        "Creating a kaggle folder so that we can store kaggle json file"
      ]
    },
    {
      "cell_type": "code",
      "execution_count": null,
      "metadata": {
        "id": "9Ryhmb3MXnyo"
      },
      "outputs": [],
      "source": [
        "! mkdir ~/.kaggle "
      ]
    },
    {
      "cell_type": "markdown",
      "metadata": {
        "id": "bZwUhQtWCHMw"
      },
      "source": [
        "Storing the Kaggle json file"
      ]
    },
    {
      "cell_type": "code",
      "execution_count": null,
      "metadata": {
        "colab": {
          "base_uri": "https://localhost:8080/"
        },
        "id": "PpWqWyunX6J1",
        "outputId": "c8551951-25bd-42e4-d253-8f4e454456b1"
      },
      "outputs": [
        {
          "name": "stdout",
          "output_type": "stream",
          "text": [
            "cp: cannot stat 'kaggle.json': No such file or directory\n"
          ]
        }
      ],
      "source": [
        "! cp kaggle.json ~/.kaggle/"
      ]
    },
    {
      "cell_type": "markdown",
      "metadata": {
        "id": "il7HHJekCMHr"
      },
      "source": [
        "Accessing the kaggle jason file"
      ]
    },
    {
      "cell_type": "code",
      "execution_count": null,
      "metadata": {
        "colab": {
          "base_uri": "https://localhost:8080/"
        },
        "id": "c60bahLjYAe4",
        "outputId": "7c99a6d3-e0a2-4309-f202-2dc9b0406bec"
      },
      "outputs": [
        {
          "name": "stdout",
          "output_type": "stream",
          "text": [
            "chmod: cannot access '/root/.kaggle/kaggle.json': No such file or directory\n"
          ]
        }
      ],
      "source": [
        "! chmod 600 ~/.kaggle/kaggle.json"
      ]
    },
    {
      "cell_type": "markdown",
      "metadata": {
        "id": "StV5KHbtCPzW"
      },
      "source": [
        "Downloading the dataset \"challenges-in-representation-learning-facial-expression-recognition-challenge\". This is a zip file."
      ]
    },
    {
      "cell_type": "code",
      "execution_count": null,
      "metadata": {
        "colab": {
          "base_uri": "https://localhost:8080/"
        },
        "id": "RA-MglLJYG_4",
        "outputId": "a3b9e809-1299-47c3-9ab9-2a3c39e8349f"
      },
      "outputs": [
        {
          "name": "stdout",
          "output_type": "stream",
          "text": [
            "Traceback (most recent call last):\n",
            "  File \"/usr/local/bin/kaggle\", line 5, in <module>\n",
            "    from kaggle.cli import main\n",
            "  File \"/usr/local/lib/python3.8/dist-packages/kaggle/__init__.py\", line 23, in <module>\n",
            "    api.authenticate()\n",
            "  File \"/usr/local/lib/python3.8/dist-packages/kaggle/api/kaggle_api_extended.py\", line 164, in authenticate\n",
            "    raise IOError('Could not find {}. Make sure it\\'s located in'\n",
            "OSError: Could not find kaggle.json. Make sure it's located in /root/.kaggle. Or use the environment method.\n"
          ]
        }
      ],
      "source": [
        "! kaggle competitions download -c challenges-in-representation-learning-facial-expression-recognition-challenge"
      ]
    },
    {
      "cell_type": "markdown",
      "metadata": {
        "id": "PKAcl4iYCmKE"
      },
      "source": [
        "Finding that where actually the dataset went"
      ]
    },
    {
      "cell_type": "code",
      "execution_count": null,
      "metadata": {
        "colab": {
          "base_uri": "https://localhost:8080/",
          "height": 35
        },
        "id": "BogsUF8rXwly",
        "outputId": "f524b605-8c9e-4ff7-a685-e51c56f8dec8"
      },
      "outputs": [
        {
          "data": {
            "application/vnd.google.colaboratory.intrinsic+json": {
              "type": "string"
            },
            "text/plain": [
              "'/content'"
            ]
          },
          "execution_count": 7,
          "metadata": {},
          "output_type": "execute_result"
        }
      ],
      "source": [
        "pwd"
      ]
    },
    {
      "cell_type": "markdown",
      "metadata": {
        "id": "YZQPh5GOCr_s"
      },
      "source": [
        "unziping the zip file for further processing\n",
        "Because it contains icml_face_data.csv "
      ]
    },
    {
      "cell_type": "code",
      "execution_count": null,
      "metadata": {
        "colab": {
          "base_uri": "https://localhost:8080/"
        },
        "id": "Q6gui4Tp7Gu3",
        "outputId": "ad9c8adf-845f-4d42-9d08-93380ff94e84"
      },
      "outputs": [
        {
          "name": "stdout",
          "output_type": "stream",
          "text": [
            "unzip:  cannot find or open challenges-in-representation-learning-facial-expression-recognition-challenge.zip, challenges-in-representation-learning-facial-expression-recognition-challenge.zip.zip or challenges-in-representation-learning-facial-expression-recognition-challenge.zip.ZIP.\n"
          ]
        }
      ],
      "source": [
        "! unzip challenges-in-representation-learning-facial-expression-recognition-challenge.zip"
      ]
    },
    {
      "cell_type": "markdown",
      "metadata": {
        "id": "nsgUfEpyDUCM"
      },
      "source": [
        "Importing pandas to read from the icml_face_data.csv file"
      ]
    },
    {
      "cell_type": "code",
      "execution_count": null,
      "metadata": {
        "id": "svVstyG_bJ94"
      },
      "outputs": [],
      "source": [
        "import pandas as pd"
      ]
    },
    {
      "cell_type": "markdown",
      "metadata": {
        "id": "P_Yu44GXD3yi"
      },
      "source": [
        "Reading the file. This file will contain the images on which we will train our model."
      ]
    },
    {
      "cell_type": "code",
      "execution_count": null,
      "metadata": {
        "id": "Qeb-v0dvay7z"
      },
      "outputs": [],
      "source": [
        "icml_faces = pd.read_csv('/content/mydrive/MyDrive/AI_Project/icml_face_data.csv')"
      ]
    },
    {
      "cell_type": "markdown",
      "metadata": {
        "id": "vOHJDprkEF2h"
      },
      "source": [
        "Checking whether we read it correctly of not. So displaying some rows of dataframe."
      ]
    },
    {
      "cell_type": "code",
      "execution_count": null,
      "metadata": {
        "colab": {
          "base_uri": "https://localhost:8080/",
          "height": 206
        },
        "id": "2y04EDUQbG9k",
        "outputId": "186ba810-0d7d-40c6-ebe0-9d2302701ad6"
      },
      "outputs": [
        {
          "data": {
            "text/html": [
              "\n",
              "  <div id=\"df-773d8f4d-725c-48d8-9ed4-e9acc14ba373\">\n",
              "    <div class=\"colab-df-container\">\n",
              "      <div>\n",
              "<style scoped>\n",
              "    .dataframe tbody tr th:only-of-type {\n",
              "        vertical-align: middle;\n",
              "    }\n",
              "\n",
              "    .dataframe tbody tr th {\n",
              "        vertical-align: top;\n",
              "    }\n",
              "\n",
              "    .dataframe thead th {\n",
              "        text-align: right;\n",
              "    }\n",
              "</style>\n",
              "<table border=\"1\" class=\"dataframe\">\n",
              "  <thead>\n",
              "    <tr style=\"text-align: right;\">\n",
              "      <th></th>\n",
              "      <th>emotion</th>\n",
              "      <th>Usage</th>\n",
              "      <th>pixels</th>\n",
              "    </tr>\n",
              "  </thead>\n",
              "  <tbody>\n",
              "    <tr>\n",
              "      <th>0</th>\n",
              "      <td>0</td>\n",
              "      <td>Training</td>\n",
              "      <td>70 80 82 72 58 58 60 63 54 58 60 48 89 115 121...</td>\n",
              "    </tr>\n",
              "    <tr>\n",
              "      <th>1</th>\n",
              "      <td>0</td>\n",
              "      <td>Training</td>\n",
              "      <td>151 150 147 155 148 133 111 140 170 174 182 15...</td>\n",
              "    </tr>\n",
              "    <tr>\n",
              "      <th>2</th>\n",
              "      <td>2</td>\n",
              "      <td>Training</td>\n",
              "      <td>231 212 156 164 174 138 161 173 182 200 106 38...</td>\n",
              "    </tr>\n",
              "    <tr>\n",
              "      <th>3</th>\n",
              "      <td>4</td>\n",
              "      <td>Training</td>\n",
              "      <td>24 32 36 30 32 23 19 20 30 41 21 22 32 34 21 1...</td>\n",
              "    </tr>\n",
              "    <tr>\n",
              "      <th>4</th>\n",
              "      <td>6</td>\n",
              "      <td>Training</td>\n",
              "      <td>4 0 0 0 0 0 0 0 0 0 0 0 3 15 23 28 48 50 58 84...</td>\n",
              "    </tr>\n",
              "  </tbody>\n",
              "</table>\n",
              "</div>\n",
              "      <button class=\"colab-df-convert\" onclick=\"convertToInteractive('df-773d8f4d-725c-48d8-9ed4-e9acc14ba373')\"\n",
              "              title=\"Convert this dataframe to an interactive table.\"\n",
              "              style=\"display:none;\">\n",
              "        \n",
              "  <svg xmlns=\"http://www.w3.org/2000/svg\" height=\"24px\"viewBox=\"0 0 24 24\"\n",
              "       width=\"24px\">\n",
              "    <path d=\"M0 0h24v24H0V0z\" fill=\"none\"/>\n",
              "    <path d=\"M18.56 5.44l.94 2.06.94-2.06 2.06-.94-2.06-.94-.94-2.06-.94 2.06-2.06.94zm-11 1L8.5 8.5l.94-2.06 2.06-.94-2.06-.94L8.5 2.5l-.94 2.06-2.06.94zm10 10l.94 2.06.94-2.06 2.06-.94-2.06-.94-.94-2.06-.94 2.06-2.06.94z\"/><path d=\"M17.41 7.96l-1.37-1.37c-.4-.4-.92-.59-1.43-.59-.52 0-1.04.2-1.43.59L10.3 9.45l-7.72 7.72c-.78.78-.78 2.05 0 2.83L4 21.41c.39.39.9.59 1.41.59.51 0 1.02-.2 1.41-.59l7.78-7.78 2.81-2.81c.8-.78.8-2.07 0-2.86zM5.41 20L4 18.59l7.72-7.72 1.47 1.35L5.41 20z\"/>\n",
              "  </svg>\n",
              "      </button>\n",
              "      \n",
              "  <style>\n",
              "    .colab-df-container {\n",
              "      display:flex;\n",
              "      flex-wrap:wrap;\n",
              "      gap: 12px;\n",
              "    }\n",
              "\n",
              "    .colab-df-convert {\n",
              "      background-color: #E8F0FE;\n",
              "      border: none;\n",
              "      border-radius: 50%;\n",
              "      cursor: pointer;\n",
              "      display: none;\n",
              "      fill: #1967D2;\n",
              "      height: 32px;\n",
              "      padding: 0 0 0 0;\n",
              "      width: 32px;\n",
              "    }\n",
              "\n",
              "    .colab-df-convert:hover {\n",
              "      background-color: #E2EBFA;\n",
              "      box-shadow: 0px 1px 2px rgba(60, 64, 67, 0.3), 0px 1px 3px 1px rgba(60, 64, 67, 0.15);\n",
              "      fill: #174EA6;\n",
              "    }\n",
              "\n",
              "    [theme=dark] .colab-df-convert {\n",
              "      background-color: #3B4455;\n",
              "      fill: #D2E3FC;\n",
              "    }\n",
              "\n",
              "    [theme=dark] .colab-df-convert:hover {\n",
              "      background-color: #434B5C;\n",
              "      box-shadow: 0px 1px 3px 1px rgba(0, 0, 0, 0.15);\n",
              "      filter: drop-shadow(0px 1px 2px rgba(0, 0, 0, 0.3));\n",
              "      fill: #FFFFFF;\n",
              "    }\n",
              "  </style>\n",
              "\n",
              "      <script>\n",
              "        const buttonEl =\n",
              "          document.querySelector('#df-773d8f4d-725c-48d8-9ed4-e9acc14ba373 button.colab-df-convert');\n",
              "        buttonEl.style.display =\n",
              "          google.colab.kernel.accessAllowed ? 'block' : 'none';\n",
              "\n",
              "        async function convertToInteractive(key) {\n",
              "          const element = document.querySelector('#df-773d8f4d-725c-48d8-9ed4-e9acc14ba373');\n",
              "          const dataTable =\n",
              "            await google.colab.kernel.invokeFunction('convertToInteractive',\n",
              "                                                     [key], {});\n",
              "          if (!dataTable) return;\n",
              "\n",
              "          const docLinkHtml = 'Like what you see? Visit the ' +\n",
              "            '<a target=\"_blank\" href=https://colab.research.google.com/notebooks/data_table.ipynb>data table notebook</a>'\n",
              "            + ' to learn more about interactive tables.';\n",
              "          element.innerHTML = '';\n",
              "          dataTable['output_type'] = 'display_data';\n",
              "          await google.colab.output.renderOutput(dataTable, element);\n",
              "          const docLink = document.createElement('div');\n",
              "          docLink.innerHTML = docLinkHtml;\n",
              "          element.appendChild(docLink);\n",
              "        }\n",
              "      </script>\n",
              "    </div>\n",
              "  </div>\n",
              "  "
            ],
            "text/plain": [
              "   emotion     Usage                                             pixels\n",
              "0        0  Training  70 80 82 72 58 58 60 63 54 58 60 48 89 115 121...\n",
              "1        0  Training  151 150 147 155 148 133 111 140 170 174 182 15...\n",
              "2        2  Training  231 212 156 164 174 138 161 173 182 200 106 38...\n",
              "3        4  Training  24 32 36 30 32 23 19 20 30 41 21 22 32 34 21 1...\n",
              "4        6  Training  4 0 0 0 0 0 0 0 0 0 0 0 3 15 23 28 48 50 58 84..."
            ]
          },
          "execution_count": 7,
          "metadata": {},
          "output_type": "execute_result"
        }
      ],
      "source": [
        "icml_faces.head()"
      ]
    },
    {
      "cell_type": "markdown",
      "metadata": {
        "id": "HtEQPf_2EQX6"
      },
      "source": [
        "Now as our dataset contains pixel values. And as these pixels are numeric. We have to do some preprocessing before passing it to model so importing numpy."
      ]
    },
    {
      "cell_type": "code",
      "execution_count": null,
      "metadata": {
        "id": "BI33IBkQbwH7"
      },
      "outputs": [],
      "source": [
        "import numpy as np"
      ]
    },
    {
      "cell_type": "markdown",
      "metadata": {
        "id": "TpZ7qbr0E21H"
      },
      "source": [
        "As the pictures in datasets are numeric form so we will plot the images using the numpy array which we imported. For this creating a function."
      ]
    },
    {
      "cell_type": "code",
      "execution_count": null,
      "metadata": {
        "id": "NGgTit-MbqYr"
      },
      "outputs": [],
      "source": [
        "def plot_images(df, emotion_class):\n",
        "\n",
        "    emo_df = df[df.emotion==emotion_class]\n",
        "\n",
        "    row = emo_df.sample(1)\n",
        "\n",
        "    img = np.fromstring(row[' pixels'].iloc[0], dtype=int, sep=' ')\n",
        "\n",
        "    img = np.reshape(img, (48, 48))\n",
        "\n",
        "    image = np.zeros((48,48,3))\n",
        "\n",
        "    image[:,:,0] = img\n",
        "\n",
        "    image[:,:,1] = img\n",
        "\n",
        "    image[:,:,2] = img\n",
        "\n",
        "    image = np.array(image.astype(np.uint8))\n",
        "\n",
        "    return image"
      ]
    },
    {
      "cell_type": "code",
      "execution_count": null,
      "metadata": {
        "id": "MCUQyOwdb5wT"
      },
      "outputs": [],
      "source": [
        "import matplotlib.pyplot as plt"
      ]
    },
    {
      "cell_type": "markdown",
      "metadata": {
        "id": "6LILGAMJFIr5"
      },
      "source": [
        "Matplotlib is use for plotting purposes. So the function which we defined will be further use for plotting these image and we will show the image with the help of matplotlib. Plotting the someimages to get an idea what kind og images do we have in our dataset."
      ]
    },
    {
      "cell_type": "code",
      "execution_count": null,
      "metadata": {
        "colab": {
          "base_uri": "https://localhost:8080/",
          "height": 554
        },
        "id": "o2RYrgJxb0eu",
        "outputId": "f3278633-fedd-4613-b6f8-559c5fb87986"
      },
      "outputs": [
        {
          "data": {
            "image/png": "[encoded data removed]",
            "text/plain": [
              "<Figure size 1152x720 with 7 Axes>"
            ]
          },
          "metadata": {
            "needs_background": "light"
          },
          "output_type": "display_data"
        }
      ],
      "source": [
        "plt.figure(0, figsize=(16,10))\n",
        "emotion_num_map=[\"Angry\", \"Disgust\", \"Fear\", \"Happy\", \"Sad\", \"Surprise\", \"Neutral\"]\n",
        "for i in range(7):\n",
        "\n",
        "    plt.subplot(2,4,i+1)\n",
        "\n",
        "    image = plot_images(icml_faces,i)\n",
        "\n",
        "    plt.imshow(image)\n",
        "  \n",
        "    plt.title( emotion_num_map[i])\n",
        "\n",
        "\n"
      ]
    },
    {
      "cell_type": "markdown",
      "metadata": {
        "id": "T6H31tS9FwJN"
      },
      "source": [
        "Checking how much images we have corresponding to emotions."
      ]
    },
    {
      "cell_type": "code",
      "execution_count": null,
      "metadata": {
        "colab": {
          "base_uri": "https://localhost:8080/"
        },
        "id": "FT8_IBzNmwm2",
        "outputId": "07cf0912-7060-4392-c2f8-669aa96cb094"
      },
      "outputs": [
        {
          "data": {
            "text/plain": [
              "3    8989\n",
              "6    6198\n",
              "4    6077\n",
              "2    5121\n",
              "0    4953\n",
              "5    4002\n",
              "1     547\n",
              "Name: emotion, dtype: int64"
            ]
          },
          "execution_count": 13,
          "metadata": {},
          "output_type": "execute_result"
        }
      ],
      "source": [
        "icml_faces['emotion'].value_counts()"
      ]
    },
    {
      "cell_type": "markdown",
      "metadata": {
        "id": "xXo1lpiGGnCc"
      },
      "source": [
        "Importing tensorflow and keras for model building."
      ]
    },
    {
      "cell_type": "code",
      "execution_count": null,
      "metadata": {
        "id": "a953pu7Wn2-Q"
      },
      "outputs": [],
      "source": [
        "import tensorflow as tf\n",
        "from tensorflow import keras"
      ]
    },
    {
      "cell_type": "markdown",
      "metadata": {
        "id": "XVkKuj_MGFit"
      },
      "source": [
        "Now defining a function for preprocessing. It preprocess the data so that data can be pass to model."
      ]
    },
    {
      "cell_type": "code",
      "execution_count": null,
      "metadata": {
        "id": "mSF0JaiQnPaw"
      },
      "outputs": [],
      "source": [
        "def preprocess(input_data):\n",
        "\n",
        "    input_images = np.zeros(shape=(input_data.shape[0], 48, 48))\n",
        "\n",
        "    for i, row in enumerate(input_data.index):\n",
        "\n",
        "        image = np.fromstring(input_data.loc[row, ' pixels'], dtype=int, sep=' ')\n",
        "\n",
        "        image = np.reshape(image, (48, 48))\n",
        "\n",
        "        input_images[i] = image\n",
        "\n",
        "    input_images = input_images.reshape((input_images.shape[0], 48, 48, 1))\n",
        "\n",
        "    input_images = input_images.astype('float32')/255\n",
        "\n",
        "    input_labels = np.array(list(map(int, input_data['emotion'])))\n",
        "\n",
        "    image_labels = keras.utils.to_categorical(input_labels, 7)\n",
        "\n",
        "    return  input_images, image_labels"
      ]
    },
    {
      "cell_type": "markdown",
      "metadata": {
        "id": "5D5Ettq2G0-Z"
      },
      "source": [
        "Importing batch normalization was giving us error when importing it from keras so we had to download it from separately."
      ]
    },
    {
      "cell_type": "code",
      "execution_count": null,
      "metadata": {
        "colab": {
          "base_uri": "https://localhost:8080/"
        },
        "id": "gAsCiwb_HwwI",
        "outputId": "10edf2e8-7bef-46c4-cea5-1174fb44b48a"
      },
      "outputs": [
        {
          "name": "stdout",
          "output_type": "stream",
          "text": [
            "Looking in indexes: https://pypi.org/simple, https://us-python.pkg.dev/colab-wheels/public/simple/\n",
            "\u001b[31mERROR: Could not find a version that satisfies the requirement tensorflow.kears.models.BatchNormalization (from versions: none)\u001b[0m\n",
            "\u001b[31mERROR: No matching distribution found for tensorflow.kears.models.BatchNormalization\u001b[0m\n"
          ]
        }
      ],
      "source": [
        "!pip install tensorflow.kears.models.BatchNormalization"
      ]
    },
    {
      "cell_type": "markdown",
      "metadata": {
        "id": "HtGd88g1HQWQ"
      },
      "source": [
        "Importing all the layers so that we can build our model."
      ]
    },
    {
      "cell_type": "code",
      "execution_count": null,
      "metadata": {
        "id": "bL95dsZYroHr"
      },
      "outputs": [],
      "source": [
        "import tensorflow as tf\n",
        "import cv2\n",
        "\n",
        "from tensorflow.keras.layers import Dense, Flatten, Conv2D, MaxPooling2D\n",
        "from tensorflow.keras.layers import Activation\n",
        "from tensorflow.keras.models import Sequential\n",
        "from tensorflow.keras.layers import BatchNormalization\n",
        "from tensorflow.keras.layers  import Dropout"
      ]
    },
    {
      "cell_type": "markdown",
      "metadata": {
        "id": "PHZQUXEnHXcs"
      },
      "source": [
        "Building a simple CNN model. A simple CNN model consist of many layers. These layers are the combination of convolution and pooling. Using relu and softmax as activation function. And at the end compiling this model on SDG and categoricalcrossentropy loss function."
      ]
    },
    {
      "cell_type": "code",
      "execution_count": null,
      "metadata": {
        "colab": {
          "base_uri": "https://localhost:8080/"
        },
        "id": "anlp3uHGo9sr",
        "outputId": "a8d3a610-7cb2-4dd2-e2a5-b03cb6833c6b"
      },
      "outputs": [
        {
          "name": "stdout",
          "output_type": "stream",
          "text": [
            "Model: \"sequential_2\"\n",
            "_________________________________________________________________\n",
            " Layer (type)                Output Shape              Param #   \n",
            "=================================================================\n",
            " conv2d_3 (Conv2D)           (None, 46, 46, 32)        320       \n",
            "                                                                 \n",
            " max_pooling2d_2 (MaxPooling  (None, 23, 23, 32)       0         \n",
            " 2D)                                                             \n",
            "                                                                 \n",
            " conv2d_4 (Conv2D)           (None, 21, 21, 64)        18496     \n",
            "                                                                 \n",
            " max_pooling2d_3 (MaxPooling  (None, 10, 10, 64)       0         \n",
            " 2D)                                                             \n",
            "                                                                 \n",
            " conv2d_5 (Conv2D)           (None, 8, 8, 64)          36928     \n",
            "                                                                 \n",
            " flatten_1 (Flatten)         (None, 4096)              0         \n",
            "                                                                 \n",
            " dense_2 (Dense)             (None, 64)                262208    \n",
            "                                                                 \n",
            " dense_3 (Dense)             (None, 7)                 455       \n",
            "                                                                 \n",
            "=================================================================\n",
            "Total params: 318,407\n",
            "Trainable params: 318,407\n",
            "Non-trainable params: 0\n",
            "_________________________________________________________________\n"
          ]
        }
      ],
      "source": [
        "model = tf.keras.Sequential()\n",
        "\n",
        "model.add(Conv2D(32, (3, 3), activation='relu', input_shape=(48, 48, 1)))\n",
        "model.add(MaxPooling2D((2, 2)))\n",
        "model.add(Conv2D(64, (3, 3), activation='relu')) \n",
        "model.add(MaxPooling2D((2, 2)))\n",
        "model.add(Conv2D(64, (3, 3), activation='relu')) \n",
        "model.add(Flatten()) \n",
        "model.add(Dense(64, activation='relu')) \n",
        "model.add(Dense(7, activation='softmax'))\n",
        "\n",
        "model.summary()\n",
        "model.compile(optimizer='sgd', loss=tf.keras.losses.CategoricalCrossentropy())"
      ]
    },
    {
      "cell_type": "markdown",
      "metadata": {
        "id": "-ODPST-7H8Q9"
      },
      "source": [
        "Previous model did't gave us that accuracy so we added added a batch normalization layer."
      ]
    },
    {
      "cell_type": "code",
      "execution_count": null,
      "metadata": {
        "colab": {
          "base_uri": "https://localhost:8080/"
        },
        "id": "XB6QeQX4F7ob",
        "outputId": "0ab10a36-3b6c-43a9-f944-fbff76ccdb35"
      },
      "outputs": [
        {
          "name": "stdout",
          "output_type": "stream",
          "text": [
            "Model: \"sequential_3\"\n",
            "_________________________________________________________________\n",
            " Layer (type)                Output Shape              Param #   \n",
            "=================================================================\n",
            " conv2d_6 (Conv2D)           (None, 46, 46, 32)        320       \n",
            "                                                                 \n",
            " batch_normalization (BatchN  (None, 46, 46, 32)       128       \n",
            " ormalization)                                                   \n",
            "                                                                 \n",
            " max_pooling2d_4 (MaxPooling  (None, 23, 23, 32)       0         \n",
            " 2D)                                                             \n",
            "                                                                 \n",
            " conv2d_7 (Conv2D)           (None, 21, 21, 64)        18496     \n",
            "                                                                 \n",
            " batch_normalization_1 (Batc  (None, 21, 21, 64)       256       \n",
            " hNormalization)                                                 \n",
            "                                                                 \n",
            " max_pooling2d_5 (MaxPooling  (None, 10, 10, 64)       0         \n",
            " 2D)                                                             \n",
            "                                                                 \n",
            " conv2d_8 (Conv2D)           (None, 8, 8, 64)          36928     \n",
            "                                                                 \n",
            " batch_normalization_2 (Batc  (None, 8, 8, 64)         256       \n",
            " hNormalization)                                                 \n",
            "                                                                 \n",
            " flatten_2 (Flatten)         (None, 4096)              0         \n",
            "                                                                 \n",
            " dropout (Dropout)           (None, 4096)              0         \n",
            "                                                                 \n",
            " dense_4 (Dense)             (None, 64)                262208    \n",
            "                                                                 \n",
            " dense_5 (Dense)             (None, 7)                 455       \n",
            "                                                                 \n",
            "=================================================================\n",
            "Total params: 319,047\n",
            "Trainable params: 318,727\n",
            "Non-trainable params: 320\n",
            "_________________________________________________________________\n"
          ]
        }
      ],
      "source": [
        "model =  tf.keras.models.Sequential()\n",
        "\n",
        "model.add(Conv2D(32, (3, 3), activation='relu', input_shape=(48, 48, 1)))\n",
        "\n",
        "model.add(BatchNormalization())\n",
        "\n",
        "model.add(MaxPooling2D((2, 2)))\n",
        "\n",
        "model.add(Conv2D(64, (3, 3), activation='relu'))\n",
        "\n",
        "model.add(BatchNormalization())\n",
        "\n",
        "model.add(MaxPooling2D((2, 2)))\n",
        "\n",
        "model.add(Conv2D(64, (3, 3), activation='relu'))\n",
        "\n",
        "model.add(BatchNormalization())\n",
        "\n",
        "model.add(Flatten())\n",
        "\n",
        "model.add(Dropout(0.5))\n",
        "\n",
        "model.add(Dense(64, activation='relu'))\n",
        "\n",
        "model.add(Dense(7, activation='softmax'))\n",
        "model.summary()\n",
        "model.compile(optimizer='sgd', loss=tf.keras.losses.CategoricalCrossentropy())\n"
      ]
    },
    {
      "cell_type": "markdown",
      "metadata": {
        "id": "Ivx8M5vDKmaF"
      },
      "source": [
        "From Exploring the data, in data we have a column called \"usage\". So from the file 28709 is the row where training data changed to testing so splitting these two. "
      ]
    },
    {
      "cell_type": "code",
      "execution_count": null,
      "metadata": {
        "colab": {
          "base_uri": "https://localhost:8080/"
        },
        "id": "bPvgImv3aNNt",
        "outputId": "7f1e92da-e4e7-4bb8-deeb-647f1b5eb2b6"
      },
      "outputs": [
        {
          "name": "stdout",
          "output_type": "stream",
          "text": [
            "       emotion     Usage                                             pixels\n",
            "0            0  Training  70 80 82 72 58 58 60 63 54 58 60 48 89 115 121...\n",
            "1            0  Training  151 150 147 155 148 133 111 140 170 174 182 15...\n",
            "2            2  Training  231 212 156 164 174 138 161 173 182 200 106 38...\n",
            "3            4  Training  24 32 36 30 32 23 19 20 30 41 21 22 32 34 21 1...\n",
            "4            6  Training  4 0 0 0 0 0 0 0 0 0 0 0 3 15 23 28 48 50 58 84...\n",
            "...        ...       ...                                                ...\n",
            "28704        2  Training  84 85 85 85 85 85 85 85 86 86 86 87 86 86 91 9...\n",
            "28705        0  Training  114 112 113 113 111 111 112 113 115 113 114 11...\n",
            "28706        4  Training  74 81 87 89 95 100 98 93 105 120 127 133 146 1...\n",
            "28707        0  Training  222 227 203 90 86 90 84 77 94 87 99 119 134 14...\n",
            "28708        4  Training  195 199 205 206 205 203 206 209 208 210 212 21...\n",
            "\n",
            "[28709 rows x 3 columns]\n",
            "       emotion        Usage                                             pixels\n",
            "28709        0   PublicTest  254 254 254 254 254 249 255 160 2 58 53 70 77 ...\n",
            "28710        1   PublicTest  156 184 198 202 204 207 210 212 213 214 215 21...\n",
            "28711        4   PublicTest  69 118 61 60 96 121 103 87 103 88 70 90 115 12...\n",
            "28712        6   PublicTest  205 203 236 157 83 158 120 116 94 86 155 180 2...\n",
            "28713        3   PublicTest  87 79 74 66 74 96 77 80 80 84 83 89 102 91 84 ...\n",
            "...        ...          ...                                                ...\n",
            "35882        6  PrivateTest  50 36 17 22 23 29 33 39 34 37 37 37 39 43 48 5...\n",
            "35883        3  PrivateTest  178 174 172 173 181 188 191 194 196 199 200 20...\n",
            "35884        0  PrivateTest  17 17 16 23 28 22 19 17 25 26 20 24 31 19 27 9...\n",
            "35885        3  PrivateTest  30 28 28 29 31 30 42 68 79 81 77 67 67 71 63 6...\n",
            "35886        2  PrivateTest  19 13 14 12 13 16 21 33 50 57 71 84 97 108 122...\n",
            "\n",
            "[7178 rows x 3 columns]\n"
          ]
        }
      ],
      "source": [
        "training=icml_faces[:28709]\n",
        "testing=icml_faces[28709:]\n",
        "print(training)\n",
        "print(testing)"
      ]
    },
    {
      "cell_type": "markdown",
      "metadata": {
        "id": "6FMAPxQLLO9G"
      },
      "source": [
        "Doing preprocessing we that we can pass it to our model"
      ]
    },
    {
      "cell_type": "code",
      "execution_count": null,
      "metadata": {
        "id": "77xEIOY1BRgX"
      },
      "outputs": [],
      "source": [
        "X_train,y_train=preprocess(training)"
      ]
    },
    {
      "cell_type": "markdown",
      "metadata": {
        "id": "BYle1b0FLT_i"
      },
      "source": [
        "Printing the model summary so that we can see that we are picking the right model."
      ]
    },
    {
      "cell_type": "code",
      "execution_count": null,
      "metadata": {
        "colab": {
          "base_uri": "https://localhost:8080/"
        },
        "id": "0d0iMoUAycTv",
        "outputId": "dfdef9a6-30ee-43cc-e462-48f70a43c22a"
      },
      "outputs": [
        {
          "name": "stdout",
          "output_type": "stream",
          "text": [
            "Model: \"sequential\"\n",
            "_________________________________________________________________\n",
            " Layer (type)                Output Shape              Param #   \n",
            "=================================================================\n",
            " conv2d (Conv2D)             (None, 46, 46, 32)        320       \n",
            "                                                                 \n",
            " batch_normalization (BatchN  (None, 46, 46, 32)       128       \n",
            " ormalization)                                                   \n",
            "                                                                 \n",
            " max_pooling2d (MaxPooling2D  (None, 23, 23, 32)       0         \n",
            " )                                                               \n",
            "                                                                 \n",
            " conv2d_1 (Conv2D)           (None, 21, 21, 64)        18496     \n",
            "                                                                 \n",
            " batch_normalization_1 (Batc  (None, 21, 21, 64)       256       \n",
            " hNormalization)                                                 \n",
            "                                                                 \n",
            " max_pooling2d_1 (MaxPooling  (None, 10, 10, 64)       0         \n",
            " 2D)                                                             \n",
            "                                                                 \n",
            " conv2d_2 (Conv2D)           (None, 8, 8, 64)          36928     \n",
            "                                                                 \n",
            " batch_normalization_2 (Batc  (None, 8, 8, 64)         256       \n",
            " hNormalization)                                                 \n",
            "                                                                 \n",
            " flatten (Flatten)           (None, 4096)              0         \n",
            "                                                                 \n",
            " dropout (Dropout)           (None, 4096)              0         \n",
            "                                                                 \n",
            " dense (Dense)               (None, 64)                262208    \n",
            "                                                                 \n",
            " dense_1 (Dense)             (None, 7)                 455       \n",
            "                                                                 \n",
            "=================================================================\n",
            "Total params: 319,047\n",
            "Trainable params: 318,727\n",
            "Non-trainable params: 320\n",
            "_________________________________________________________________\n"
          ]
        }
      ],
      "source": [
        "model.summary()"
      ]
    },
    {
      "cell_type": "markdown",
      "metadata": {
        "id": "nrMprNGlLcan"
      },
      "source": [
        "Now starting traning our model. We set parameters on hit and trial method."
      ]
    },
    {
      "cell_type": "code",
      "execution_count": null,
      "metadata": {
        "colab": {
          "base_uri": "https://localhost:8080/",
          "height": 397
        },
        "id": "kqLWeEvunZRk",
        "outputId": "1d2aa5ca-cda4-40b9-a3a4-51d27d5e646c"
      },
      "outputs": [
        {
          "name": "stdout",
          "output_type": "stream",
          "text": [
            "Epoch 1/50\n",
            "225/225 [==============================] - 129s 568ms/step - loss: 1.9785 - val_loss: 1.8891\n",
            "Epoch 2/50\n",
            "225/225 [==============================] - ETA: 0s - loss: 1.6728"
          ]
        },
        {
          "ename": "KeyboardInterrupt",
          "evalue": "ignored",
          "output_type": "error",
          "traceback": [
            "\u001b[0;31m---------------------------------------------------------------------------\u001b[0m",
            "\u001b[0;31mKeyboardInterrupt\u001b[0m                         Traceback (most recent call last)",
            "\u001b[0;32m<ipython-input-226-08c06580277e>\u001b[0m in \u001b[0;36m<module>\u001b[0;34m\u001b[0m\n\u001b[1;32m      1\u001b[0m \u001b[0mX_test\u001b[0m\u001b[0;34m,\u001b[0m\u001b[0my_test\u001b[0m\u001b[0;34m=\u001b[0m\u001b[0mpreprocess\u001b[0m\u001b[0;34m(\u001b[0m\u001b[0mtesting\u001b[0m\u001b[0;34m)\u001b[0m\u001b[0;34m\u001b[0m\u001b[0;34m\u001b[0m\u001b[0m\n\u001b[0;32m----> 2\u001b[0;31m \u001b[0mhistory\u001b[0m \u001b[0;34m=\u001b[0m \u001b[0mmodel\u001b[0m\u001b[0;34m.\u001b[0m\u001b[0mfit\u001b[0m\u001b[0;34m(\u001b[0m\u001b[0mX_train\u001b[0m\u001b[0;34m,\u001b[0m \u001b[0my_train\u001b[0m\u001b[0;34m,\u001b[0m \u001b[0mvalidation_data\u001b[0m\u001b[0;34m=\u001b[0m\u001b[0;34m(\u001b[0m\u001b[0mX_test\u001b[0m\u001b[0;34m,\u001b[0m \u001b[0my_test\u001b[0m\u001b[0;34m)\u001b[0m\u001b[0;34m,\u001b[0m\u001b[0mepochs\u001b[0m\u001b[0;34m=\u001b[0m\u001b[0;36m50\u001b[0m\u001b[0;34m,\u001b[0m \u001b[0mbatch_size\u001b[0m\u001b[0;34m=\u001b[0m\u001b[0;36m128\u001b[0m\u001b[0;34m)\u001b[0m\u001b[0;34m\u001b[0m\u001b[0;34m\u001b[0m\u001b[0m\n\u001b[0m",
            "\u001b[0;32m/usr/local/lib/python3.8/dist-packages/keras/utils/traceback_utils.py\u001b[0m in \u001b[0;36merror_handler\u001b[0;34m(*args, **kwargs)\u001b[0m\n\u001b[1;32m     62\u001b[0m     \u001b[0mfiltered_tb\u001b[0m \u001b[0;34m=\u001b[0m \u001b[0;32mNone\u001b[0m\u001b[0;34m\u001b[0m\u001b[0;34m\u001b[0m\u001b[0m\n\u001b[1;32m     63\u001b[0m     \u001b[0;32mtry\u001b[0m\u001b[0;34m:\u001b[0m\u001b[0;34m\u001b[0m\u001b[0;34m\u001b[0m\u001b[0m\n\u001b[0;32m---> 64\u001b[0;31m       \u001b[0;32mreturn\u001b[0m \u001b[0mfn\u001b[0m\u001b[0;34m(\u001b[0m\u001b[0;34m*\u001b[0m\u001b[0margs\u001b[0m\u001b[0;34m,\u001b[0m \u001b[0;34m**\u001b[0m\u001b[0mkwargs\u001b[0m\u001b[0;34m)\u001b[0m\u001b[0;34m\u001b[0m\u001b[0;34m\u001b[0m\u001b[0m\n\u001b[0m\u001b[1;32m     65\u001b[0m     \u001b[0;32mexcept\u001b[0m \u001b[0mException\u001b[0m \u001b[0;32mas\u001b[0m \u001b[0me\u001b[0m\u001b[0;34m:\u001b[0m  \u001b[0;31m# pylint: disable=broad-except\u001b[0m\u001b[0;34m\u001b[0m\u001b[0;34m\u001b[0m\u001b[0m\n\u001b[1;32m     66\u001b[0m       \u001b[0mfiltered_tb\u001b[0m \u001b[0;34m=\u001b[0m \u001b[0m_process_traceback_frames\u001b[0m\u001b[0;34m(\u001b[0m\u001b[0me\u001b[0m\u001b[0;34m.\u001b[0m\u001b[0m__traceback__\u001b[0m\u001b[0;34m)\u001b[0m\u001b[0;34m\u001b[0m\u001b[0;34m\u001b[0m\u001b[0m\n",
            "\u001b[0;32m/usr/local/lib/python3.8/dist-packages/keras/engine/training.py\u001b[0m in \u001b[0;36mfit\u001b[0;34m(self, x, y, batch_size, epochs, verbose, callbacks, validation_split, validation_data, shuffle, class_weight, sample_weight, initial_epoch, steps_per_epoch, validation_steps, validation_batch_size, validation_freq, max_queue_size, workers, use_multiprocessing)\u001b[0m\n\u001b[1;32m   1443\u001b[0m                 \u001b[0mmodel\u001b[0m\u001b[0;34m=\u001b[0m\u001b[0mself\u001b[0m\u001b[0;34m,\u001b[0m\u001b[0;34m\u001b[0m\u001b[0;34m\u001b[0m\u001b[0m\n\u001b[1;32m   1444\u001b[0m                 steps_per_execution=self._steps_per_execution)\n\u001b[0;32m-> 1445\u001b[0;31m           val_logs = self.evaluate(\n\u001b[0m\u001b[1;32m   1446\u001b[0m               \u001b[0mx\u001b[0m\u001b[0;34m=\u001b[0m\u001b[0mval_x\u001b[0m\u001b[0;34m,\u001b[0m\u001b[0;34m\u001b[0m\u001b[0;34m\u001b[0m\u001b[0m\n\u001b[1;32m   1447\u001b[0m               \u001b[0my\u001b[0m\u001b[0;34m=\u001b[0m\u001b[0mval_y\u001b[0m\u001b[0;34m,\u001b[0m\u001b[0;34m\u001b[0m\u001b[0;34m\u001b[0m\u001b[0m\n",
            "\u001b[0;32m/usr/local/lib/python3.8/dist-packages/keras/utils/traceback_utils.py\u001b[0m in \u001b[0;36merror_handler\u001b[0;34m(*args, **kwargs)\u001b[0m\n\u001b[1;32m     62\u001b[0m     \u001b[0mfiltered_tb\u001b[0m \u001b[0;34m=\u001b[0m \u001b[0;32mNone\u001b[0m\u001b[0;34m\u001b[0m\u001b[0;34m\u001b[0m\u001b[0m\n\u001b[1;32m     63\u001b[0m     \u001b[0;32mtry\u001b[0m\u001b[0;34m:\u001b[0m\u001b[0;34m\u001b[0m\u001b[0;34m\u001b[0m\u001b[0m\n\u001b[0;32m---> 64\u001b[0;31m       \u001b[0;32mreturn\u001b[0m \u001b[0mfn\u001b[0m\u001b[0;34m(\u001b[0m\u001b[0;34m*\u001b[0m\u001b[0margs\u001b[0m\u001b[0;34m,\u001b[0m \u001b[0;34m**\u001b[0m\u001b[0mkwargs\u001b[0m\u001b[0;34m)\u001b[0m\u001b[0;34m\u001b[0m\u001b[0;34m\u001b[0m\u001b[0m\n\u001b[0m\u001b[1;32m     65\u001b[0m     \u001b[0;32mexcept\u001b[0m \u001b[0mException\u001b[0m \u001b[0;32mas\u001b[0m \u001b[0me\u001b[0m\u001b[0;34m:\u001b[0m  \u001b[0;31m# pylint: disable=broad-except\u001b[0m\u001b[0;34m\u001b[0m\u001b[0;34m\u001b[0m\u001b[0m\n\u001b[1;32m     66\u001b[0m       \u001b[0mfiltered_tb\u001b[0m \u001b[0;34m=\u001b[0m \u001b[0m_process_traceback_frames\u001b[0m\u001b[0;34m(\u001b[0m\u001b[0me\u001b[0m\u001b[0;34m.\u001b[0m\u001b[0m__traceback__\u001b[0m\u001b[0;34m)\u001b[0m\u001b[0;34m\u001b[0m\u001b[0;34m\u001b[0m\u001b[0m\n",
            "\u001b[0;32m/usr/local/lib/python3.8/dist-packages/keras/engine/training.py\u001b[0m in \u001b[0;36mevaluate\u001b[0;34m(self, x, y, batch_size, verbose, sample_weight, steps, callbacks, max_queue_size, workers, use_multiprocessing, return_dict, **kwargs)\u001b[0m\n\u001b[1;32m   1754\u001b[0m             \u001b[0;32mwith\u001b[0m \u001b[0mtf\u001b[0m\u001b[0;34m.\u001b[0m\u001b[0mprofiler\u001b[0m\u001b[0;34m.\u001b[0m\u001b[0mexperimental\u001b[0m\u001b[0;34m.\u001b[0m\u001b[0mTrace\u001b[0m\u001b[0;34m(\u001b[0m\u001b[0;34m'test'\u001b[0m\u001b[0;34m,\u001b[0m \u001b[0mstep_num\u001b[0m\u001b[0;34m=\u001b[0m\u001b[0mstep\u001b[0m\u001b[0;34m,\u001b[0m \u001b[0m_r\u001b[0m\u001b[0;34m=\u001b[0m\u001b[0;36m1\u001b[0m\u001b[0;34m)\u001b[0m\u001b[0;34m:\u001b[0m\u001b[0;34m\u001b[0m\u001b[0;34m\u001b[0m\u001b[0m\n\u001b[1;32m   1755\u001b[0m               \u001b[0mcallbacks\u001b[0m\u001b[0;34m.\u001b[0m\u001b[0mon_test_batch_begin\u001b[0m\u001b[0;34m(\u001b[0m\u001b[0mstep\u001b[0m\u001b[0;34m)\u001b[0m\u001b[0;34m\u001b[0m\u001b[0;34m\u001b[0m\u001b[0m\n\u001b[0;32m-> 1756\u001b[0;31m               \u001b[0mtmp_logs\u001b[0m \u001b[0;34m=\u001b[0m \u001b[0mself\u001b[0m\u001b[0;34m.\u001b[0m\u001b[0mtest_function\u001b[0m\u001b[0;34m(\u001b[0m\u001b[0miterator\u001b[0m\u001b[0;34m)\u001b[0m\u001b[0;34m\u001b[0m\u001b[0;34m\u001b[0m\u001b[0m\n\u001b[0m\u001b[1;32m   1757\u001b[0m               \u001b[0;32mif\u001b[0m \u001b[0mdata_handler\u001b[0m\u001b[0;34m.\u001b[0m\u001b[0mshould_sync\u001b[0m\u001b[0;34m:\u001b[0m\u001b[0;34m\u001b[0m\u001b[0;34m\u001b[0m\u001b[0m\n\u001b[1;32m   1758\u001b[0m                 \u001b[0mcontext\u001b[0m\u001b[0;34m.\u001b[0m\u001b[0masync_wait\u001b[0m\u001b[0;34m(\u001b[0m\u001b[0;34m)\u001b[0m\u001b[0;34m\u001b[0m\u001b[0;34m\u001b[0m\u001b[0m\n",
            "\u001b[0;32m/usr/local/lib/python3.8/dist-packages/tensorflow/python/util/traceback_utils.py\u001b[0m in \u001b[0;36merror_handler\u001b[0;34m(*args, **kwargs)\u001b[0m\n\u001b[1;32m    148\u001b[0m     \u001b[0mfiltered_tb\u001b[0m \u001b[0;34m=\u001b[0m \u001b[0;32mNone\u001b[0m\u001b[0;34m\u001b[0m\u001b[0;34m\u001b[0m\u001b[0m\n\u001b[1;32m    149\u001b[0m     \u001b[0;32mtry\u001b[0m\u001b[0;34m:\u001b[0m\u001b[0;34m\u001b[0m\u001b[0;34m\u001b[0m\u001b[0m\n\u001b[0;32m--> 150\u001b[0;31m       \u001b[0;32mreturn\u001b[0m \u001b[0mfn\u001b[0m\u001b[0;34m(\u001b[0m\u001b[0;34m*\u001b[0m\u001b[0margs\u001b[0m\u001b[0;34m,\u001b[0m \u001b[0;34m**\u001b[0m\u001b[0mkwargs\u001b[0m\u001b[0;34m)\u001b[0m\u001b[0;34m\u001b[0m\u001b[0;34m\u001b[0m\u001b[0m\n\u001b[0m\u001b[1;32m    151\u001b[0m     \u001b[0;32mexcept\u001b[0m \u001b[0mException\u001b[0m \u001b[0;32mas\u001b[0m \u001b[0me\u001b[0m\u001b[0;34m:\u001b[0m\u001b[0;34m\u001b[0m\u001b[0;34m\u001b[0m\u001b[0m\n\u001b[1;32m    152\u001b[0m       \u001b[0mfiltered_tb\u001b[0m \u001b[0;34m=\u001b[0m \u001b[0m_process_traceback_frames\u001b[0m\u001b[0;34m(\u001b[0m\u001b[0me\u001b[0m\u001b[0;34m.\u001b[0m\u001b[0m__traceback__\u001b[0m\u001b[0;34m)\u001b[0m\u001b[0;34m\u001b[0m\u001b[0;34m\u001b[0m\u001b[0m\n",
            "\u001b[0;32m/usr/local/lib/python3.8/dist-packages/tensorflow/python/eager/def_function.py\u001b[0m in \u001b[0;36m__call__\u001b[0;34m(self, *args, **kwds)\u001b[0m\n\u001b[1;32m    913\u001b[0m \u001b[0;34m\u001b[0m\u001b[0m\n\u001b[1;32m    914\u001b[0m       \u001b[0;32mwith\u001b[0m \u001b[0mOptionalXlaContext\u001b[0m\u001b[0;34m(\u001b[0m\u001b[0mself\u001b[0m\u001b[0;34m.\u001b[0m\u001b[0m_jit_compile\u001b[0m\u001b[0;34m)\u001b[0m\u001b[0;34m:\u001b[0m\u001b[0;34m\u001b[0m\u001b[0;34m\u001b[0m\u001b[0m\n\u001b[0;32m--> 915\u001b[0;31m         \u001b[0mresult\u001b[0m \u001b[0;34m=\u001b[0m \u001b[0mself\u001b[0m\u001b[0;34m.\u001b[0m\u001b[0m_call\u001b[0m\u001b[0;34m(\u001b[0m\u001b[0;34m*\u001b[0m\u001b[0margs\u001b[0m\u001b[0;34m,\u001b[0m \u001b[0;34m**\u001b[0m\u001b[0mkwds\u001b[0m\u001b[0;34m)\u001b[0m\u001b[0;34m\u001b[0m\u001b[0;34m\u001b[0m\u001b[0m\n\u001b[0m\u001b[1;32m    916\u001b[0m \u001b[0;34m\u001b[0m\u001b[0m\n\u001b[1;32m    917\u001b[0m       \u001b[0mnew_tracing_count\u001b[0m \u001b[0;34m=\u001b[0m \u001b[0mself\u001b[0m\u001b[0;34m.\u001b[0m\u001b[0mexperimental_get_tracing_count\u001b[0m\u001b[0;34m(\u001b[0m\u001b[0;34m)\u001b[0m\u001b[0;34m\u001b[0m\u001b[0;34m\u001b[0m\u001b[0m\n",
            "\u001b[0;32m/usr/local/lib/python3.8/dist-packages/tensorflow/python/eager/def_function.py\u001b[0m in \u001b[0;36m_call\u001b[0;34m(self, *args, **kwds)\u001b[0m\n\u001b[1;32m    952\u001b[0m       \u001b[0;31m# In this case we have not created variables on the first call. So we can\u001b[0m\u001b[0;34m\u001b[0m\u001b[0;34m\u001b[0m\u001b[0;34m\u001b[0m\u001b[0m\n\u001b[1;32m    953\u001b[0m       \u001b[0;31m# run the first trace but we should fail if variables are created.\u001b[0m\u001b[0;34m\u001b[0m\u001b[0;34m\u001b[0m\u001b[0;34m\u001b[0m\u001b[0m\n\u001b[0;32m--> 954\u001b[0;31m       \u001b[0mresults\u001b[0m \u001b[0;34m=\u001b[0m \u001b[0mself\u001b[0m\u001b[0;34m.\u001b[0m\u001b[0m_stateful_fn\u001b[0m\u001b[0;34m(\u001b[0m\u001b[0;34m*\u001b[0m\u001b[0margs\u001b[0m\u001b[0;34m,\u001b[0m \u001b[0;34m**\u001b[0m\u001b[0mkwds\u001b[0m\u001b[0;34m)\u001b[0m\u001b[0;34m\u001b[0m\u001b[0;34m\u001b[0m\u001b[0m\n\u001b[0m\u001b[1;32m    955\u001b[0m       \u001b[0;32mif\u001b[0m \u001b[0mself\u001b[0m\u001b[0;34m.\u001b[0m\u001b[0m_created_variables\u001b[0m \u001b[0;32mand\u001b[0m \u001b[0;32mnot\u001b[0m \u001b[0mALLOW_DYNAMIC_VARIABLE_CREATION\u001b[0m\u001b[0;34m:\u001b[0m\u001b[0;34m\u001b[0m\u001b[0;34m\u001b[0m\u001b[0m\n\u001b[1;32m    956\u001b[0m         raise ValueError(\"Creating variables on a non-first call to a function\"\n",
            "\u001b[0;32m/usr/local/lib/python3.8/dist-packages/tensorflow/python/eager/function.py\u001b[0m in \u001b[0;36m__call__\u001b[0;34m(self, *args, **kwargs)\u001b[0m\n\u001b[1;32m   2451\u001b[0m       (graph_function,\n\u001b[1;32m   2452\u001b[0m        filtered_flat_args) = self._maybe_define_function(args, kwargs)\n\u001b[0;32m-> 2453\u001b[0;31m     return graph_function._call_flat(\n\u001b[0m\u001b[1;32m   2454\u001b[0m         filtered_flat_args, captured_inputs=graph_function.captured_inputs)  # pylint: disable=protected-access\n\u001b[1;32m   2455\u001b[0m \u001b[0;34m\u001b[0m\u001b[0m\n",
            "\u001b[0;32m/usr/local/lib/python3.8/dist-packages/tensorflow/python/eager/function.py\u001b[0m in \u001b[0;36m_call_flat\u001b[0;34m(self, args, captured_inputs, cancellation_manager)\u001b[0m\n\u001b[1;32m   1858\u001b[0m         and executing_eagerly):\n\u001b[1;32m   1859\u001b[0m       \u001b[0;31m# No tape is watching; skip to running the function.\u001b[0m\u001b[0;34m\u001b[0m\u001b[0;34m\u001b[0m\u001b[0;34m\u001b[0m\u001b[0m\n\u001b[0;32m-> 1860\u001b[0;31m       return self._build_call_outputs(self._inference_function.call(\n\u001b[0m\u001b[1;32m   1861\u001b[0m           ctx, args, cancellation_manager=cancellation_manager))\n\u001b[1;32m   1862\u001b[0m     forward_backward = self._select_forward_and_backward_functions(\n",
            "\u001b[0;32m/usr/local/lib/python3.8/dist-packages/tensorflow/python/eager/function.py\u001b[0m in \u001b[0;36mcall\u001b[0;34m(self, ctx, args, cancellation_manager)\u001b[0m\n\u001b[1;32m    495\u001b[0m       \u001b[0;32mwith\u001b[0m \u001b[0m_InterpolateFunctionError\u001b[0m\u001b[0;34m(\u001b[0m\u001b[0mself\u001b[0m\u001b[0;34m)\u001b[0m\u001b[0;34m:\u001b[0m\u001b[0;34m\u001b[0m\u001b[0;34m\u001b[0m\u001b[0m\n\u001b[1;32m    496\u001b[0m         \u001b[0;32mif\u001b[0m \u001b[0mcancellation_manager\u001b[0m \u001b[0;32mis\u001b[0m \u001b[0;32mNone\u001b[0m\u001b[0;34m:\u001b[0m\u001b[0;34m\u001b[0m\u001b[0;34m\u001b[0m\u001b[0m\n\u001b[0;32m--> 497\u001b[0;31m           outputs = execute.execute(\n\u001b[0m\u001b[1;32m    498\u001b[0m               \u001b[0mstr\u001b[0m\u001b[0;34m(\u001b[0m\u001b[0mself\u001b[0m\u001b[0;34m.\u001b[0m\u001b[0msignature\u001b[0m\u001b[0;34m.\u001b[0m\u001b[0mname\u001b[0m\u001b[0;34m)\u001b[0m\u001b[0;34m,\u001b[0m\u001b[0;34m\u001b[0m\u001b[0;34m\u001b[0m\u001b[0m\n\u001b[1;32m    499\u001b[0m               \u001b[0mnum_outputs\u001b[0m\u001b[0;34m=\u001b[0m\u001b[0mself\u001b[0m\u001b[0;34m.\u001b[0m\u001b[0m_num_outputs\u001b[0m\u001b[0;34m,\u001b[0m\u001b[0;34m\u001b[0m\u001b[0;34m\u001b[0m\u001b[0m\n",
            "\u001b[0;32m/usr/local/lib/python3.8/dist-packages/tensorflow/python/eager/execute.py\u001b[0m in \u001b[0;36mquick_execute\u001b[0;34m(op_name, num_outputs, inputs, attrs, ctx, name)\u001b[0m\n\u001b[1;32m     52\u001b[0m   \u001b[0;32mtry\u001b[0m\u001b[0;34m:\u001b[0m\u001b[0;34m\u001b[0m\u001b[0;34m\u001b[0m\u001b[0m\n\u001b[1;32m     53\u001b[0m     \u001b[0mctx\u001b[0m\u001b[0;34m.\u001b[0m\u001b[0mensure_initialized\u001b[0m\u001b[0;34m(\u001b[0m\u001b[0;34m)\u001b[0m\u001b[0;34m\u001b[0m\u001b[0;34m\u001b[0m\u001b[0m\n\u001b[0;32m---> 54\u001b[0;31m     tensors = pywrap_tfe.TFE_Py_Execute(ctx._handle, device_name, op_name,\n\u001b[0m\u001b[1;32m     55\u001b[0m                                         inputs, attrs, num_outputs)\n\u001b[1;32m     56\u001b[0m   \u001b[0;32mexcept\u001b[0m \u001b[0mcore\u001b[0m\u001b[0;34m.\u001b[0m\u001b[0m_NotOkStatusException\u001b[0m \u001b[0;32mas\u001b[0m \u001b[0me\u001b[0m\u001b[0;34m:\u001b[0m\u001b[0;34m\u001b[0m\u001b[0;34m\u001b[0m\u001b[0m\n",
            "\u001b[0;31mKeyboardInterrupt\u001b[0m: "
          ]
        }
      ],
      "source": [
        "X_test,y_test=preprocess(testing)\n",
        "history = model.fit(X_train, y_train, validation_data=(X_test, y_test),epochs=50, batch_size=128)"
      ]
    },
    {
      "cell_type": "markdown",
      "metadata": {
        "id": "lHzX875mLyvh"
      },
      "source": [
        "Again training model with different parameters to see whether accuracy increased or decreased. "
      ]
    },
    {
      "cell_type": "code",
      "execution_count": null,
      "metadata": {
        "colab": {
          "base_uri": "https://localhost:8080/"
        },
        "id": "4a1VHBZnpqwn",
        "outputId": "d9adff9d-6e31-4e89-ec6d-962e5143f3bf"
      },
      "outputs": [
        {
          "name": "stdout",
          "output_type": "stream",
          "text": [
            "Epoch 1/100\n",
            "449/449 [==============================] - 131s 290ms/step - loss: 1.8923 - val_loss: 1.6907\n",
            "Epoch 2/100\n",
            "449/449 [==============================] - 130s 290ms/step - loss: 1.5881 - val_loss: 1.6854\n",
            "Epoch 3/100\n",
            "449/449 [==============================] - 130s 290ms/step - loss: 1.4610 - val_loss: 1.4703\n",
            "Epoch 4/100\n",
            "449/449 [==============================] - 132s 295ms/step - loss: 1.3889 - val_loss: 1.3702\n",
            "Epoch 5/100\n",
            "449/449 [==============================] - 137s 306ms/step - loss: 1.3345 - val_loss: 1.3215\n",
            "Epoch 6/100\n",
            "449/449 [==============================] - 131s 292ms/step - loss: 1.2837 - val_loss: 1.4623\n",
            "Epoch 7/100\n",
            "449/449 [==============================] - 131s 293ms/step - loss: 1.2435 - val_loss: 1.6230\n",
            "Epoch 8/100\n",
            "449/449 [==============================] - 131s 291ms/step - loss: 1.2098 - val_loss: 1.3098\n",
            "Epoch 9/100\n",
            "449/449 [==============================] - 132s 294ms/step - loss: 1.1762 - val_loss: 1.2586\n",
            "Epoch 10/100\n",
            "449/449 [==============================] - 131s 291ms/step - loss: 1.1426 - val_loss: 1.2614\n",
            "Epoch 11/100\n",
            "449/449 [==============================] - 131s 293ms/step - loss: 1.1210 - val_loss: 1.2257\n",
            "Epoch 12/100\n",
            "449/449 [==============================] - 131s 292ms/step - loss: 1.0871 - val_loss: 1.3568\n",
            "Epoch 13/100\n",
            "449/449 [==============================] - 132s 293ms/step - loss: 1.0671 - val_loss: 1.4002\n",
            "Epoch 14/100\n",
            "449/449 [==============================] - 131s 293ms/step - loss: 1.0348 - val_loss: 1.1970\n",
            "Epoch 15/100\n",
            "449/449 [==============================] - 131s 293ms/step - loss: 1.0204 - val_loss: 1.2439\n",
            "Epoch 16/100\n",
            "449/449 [==============================] - 131s 292ms/step - loss: 0.9953 - val_loss: 1.2003\n",
            "Epoch 17/100\n",
            "449/449 [==============================] - 131s 292ms/step - loss: 0.9781 - val_loss: 1.2038\n",
            "Epoch 18/100\n",
            "449/449 [==============================] - 130s 290ms/step - loss: 0.9576 - val_loss: 1.1899\n",
            "Epoch 19/100\n",
            "449/449 [==============================] - 131s 291ms/step - loss: 0.9326 - val_loss: 1.3916\n",
            "Epoch 20/100\n",
            "449/449 [==============================] - 131s 291ms/step - loss: 0.9095 - val_loss: 1.2714\n",
            "Epoch 21/100\n",
            "449/449 [==============================] - 130s 290ms/step - loss: 0.8895 - val_loss: 1.1826\n",
            "Epoch 22/100\n",
            "449/449 [==============================] - 130s 289ms/step - loss: 0.8752 - val_loss: 1.2388\n",
            "Epoch 23/100\n",
            "449/449 [==============================] - 130s 289ms/step - loss: 0.8547 - val_loss: 1.2723\n",
            "Epoch 24/100\n",
            "449/449 [==============================] - 130s 289ms/step - loss: 0.8333 - val_loss: 1.1923\n",
            "Epoch 25/100\n",
            "449/449 [==============================] - 130s 289ms/step - loss: 0.8112 - val_loss: 1.2228\n",
            "Epoch 26/100\n",
            "449/449 [==============================] - 130s 289ms/step - loss: 0.8019 - val_loss: 1.2346\n",
            "Epoch 27/100\n",
            "449/449 [==============================] - 129s 288ms/step - loss: 0.7855 - val_loss: 1.3069\n",
            "Epoch 28/100\n",
            "449/449 [==============================] - 130s 290ms/step - loss: 0.7557 - val_loss: 1.2550\n",
            "Epoch 29/100\n",
            "449/449 [==============================] - 130s 289ms/step - loss: 0.7419 - val_loss: 1.3208\n",
            "Epoch 30/100\n",
            "449/449 [==============================] - 130s 289ms/step - loss: 0.7298 - val_loss: 1.2905\n",
            "Epoch 31/100\n",
            "449/449 [==============================] - 130s 289ms/step - loss: 0.7150 - val_loss: 1.2797\n",
            "Epoch 32/100\n",
            "449/449 [==============================] - 130s 289ms/step - loss: 0.6983 - val_loss: 1.2727\n",
            "Epoch 33/100\n",
            "449/449 [==============================] - 130s 289ms/step - loss: 0.6780 - val_loss: 1.2814\n",
            "Epoch 34/100\n",
            "449/449 [==============================] - 130s 289ms/step - loss: 0.6592 - val_loss: 1.2678\n",
            "Epoch 35/100\n",
            "449/449 [==============================] - 130s 289ms/step - loss: 0.6518 - val_loss: 1.3871\n",
            "Epoch 36/100\n",
            "449/449 [==============================] - 130s 289ms/step - loss: 0.6380 - val_loss: 1.3523\n",
            "Epoch 37/100\n",
            "449/449 [==============================] - 129s 288ms/step - loss: 0.6189 - val_loss: 1.3052\n",
            "Epoch 38/100\n",
            "449/449 [==============================] - 130s 289ms/step - loss: 0.6046 - val_loss: 1.3250\n",
            "Epoch 39/100\n",
            "449/449 [==============================] - 130s 289ms/step - loss: 0.5932 - val_loss: 1.3842\n",
            "Epoch 40/100\n",
            "449/449 [==============================] - 130s 289ms/step - loss: 0.5854 - val_loss: 1.3886\n",
            "Epoch 41/100\n",
            "449/449 [==============================] - 130s 289ms/step - loss: 0.5642 - val_loss: 1.3252\n",
            "Epoch 42/100\n",
            "449/449 [==============================] - 130s 289ms/step - loss: 0.5596 - val_loss: 1.4016\n",
            "Epoch 43/100\n",
            "449/449 [==============================] - 130s 289ms/step - loss: 0.5450 - val_loss: 1.4641\n",
            "Epoch 44/100\n",
            "449/449 [==============================] - 129s 288ms/step - loss: 0.5340 - val_loss: 1.5029\n",
            "Epoch 45/100\n",
            "449/449 [==============================] - 129s 287ms/step - loss: 0.5189 - val_loss: 1.4863\n",
            "Epoch 46/100\n",
            "449/449 [==============================] - 128s 286ms/step - loss: 0.5138 - val_loss: 1.4009\n",
            "Epoch 47/100\n",
            "449/449 [==============================] - 129s 287ms/step - loss: 0.5109 - val_loss: 1.3878\n",
            "Epoch 48/100\n",
            "449/449 [==============================] - 129s 287ms/step - loss: 0.4992 - val_loss: 1.3990\n",
            "Epoch 49/100\n",
            "449/449 [==============================] - 129s 287ms/step - loss: 0.4894 - val_loss: 1.4488\n",
            "Epoch 50/100\n",
            "449/449 [==============================] - 129s 288ms/step - loss: 0.4723 - val_loss: 1.4334\n",
            "Epoch 51/100\n",
            "449/449 [==============================] - 129s 288ms/step - loss: 0.4646 - val_loss: 1.4413\n",
            "Epoch 52/100\n",
            "449/449 [==============================] - 129s 287ms/step - loss: 0.4608 - val_loss: 1.4513\n",
            "Epoch 53/100\n",
            "449/449 [==============================] - 129s 286ms/step - loss: 0.4649 - val_loss: 1.4858\n",
            "Epoch 54/100\n",
            "449/449 [==============================] - 129s 287ms/step - loss: 0.4494 - val_loss: 1.4833\n",
            "Epoch 55/100\n",
            "449/449 [==============================] - 128s 286ms/step - loss: 0.4376 - val_loss: 1.5055\n",
            "Epoch 56/100\n",
            "449/449 [==============================] - 129s 288ms/step - loss: 0.4316 - val_loss: 1.4902\n",
            "Epoch 57/100\n",
            "449/449 [==============================] - 130s 289ms/step - loss: 0.4239 - val_loss: 1.4808\n",
            "Epoch 58/100\n",
            "449/449 [==============================] - 129s 287ms/step - loss: 0.4190 - val_loss: 1.5372\n",
            "Epoch 59/100\n",
            "449/449 [==============================] - 129s 288ms/step - loss: 0.4125 - val_loss: 1.5190\n",
            "Epoch 60/100\n",
            "449/449 [==============================] - 129s 287ms/step - loss: 0.4093 - val_loss: 1.4822\n",
            "Epoch 61/100\n",
            "449/449 [==============================] - 129s 287ms/step - loss: 0.3974 - val_loss: 1.5127\n",
            "Epoch 62/100\n",
            "449/449 [==============================] - 129s 287ms/step - loss: 0.3937 - val_loss: 1.6022\n",
            "Epoch 63/100\n",
            "449/449 [==============================] - 129s 287ms/step - loss: 0.3863 - val_loss: 1.5557\n",
            "Epoch 64/100\n",
            "449/449 [==============================] - 128s 284ms/step - loss: 0.3764 - val_loss: 1.5816\n",
            "Epoch 65/100\n",
            "449/449 [==============================] - 127s 283ms/step - loss: 0.3704 - val_loss: 1.5565\n",
            "Epoch 66/100\n",
            "449/449 [==============================] - 127s 284ms/step - loss: 0.3675 - val_loss: 1.6578\n",
            "Epoch 67/100\n",
            "449/449 [==============================] - 128s 284ms/step - loss: 0.3601 - val_loss: 1.5468\n",
            "Epoch 68/100\n",
            "449/449 [==============================] - 128s 286ms/step - loss: 0.3556 - val_loss: 1.6567\n",
            "Epoch 69/100\n",
            "449/449 [==============================] - 129s 286ms/step - loss: 0.3443 - val_loss: 1.5673\n",
            "Epoch 70/100\n",
            "449/449 [==============================] - 130s 289ms/step - loss: 0.3501 - val_loss: 1.5761\n",
            "Epoch 71/100\n",
            "449/449 [==============================] - 130s 289ms/step - loss: 0.3439 - val_loss: 1.6374\n",
            "Epoch 72/100\n",
            "449/449 [==============================] - 129s 288ms/step - loss: 0.3345 - val_loss: 1.6393\n",
            "Epoch 73/100\n",
            "449/449 [==============================] - 129s 288ms/step - loss: 0.3313 - val_loss: 1.6263\n",
            "Epoch 74/100\n",
            "449/449 [==============================] - 130s 289ms/step - loss: 0.3350 - val_loss: 1.6571\n",
            "Epoch 75/100\n",
            "449/449 [==============================] - 129s 288ms/step - loss: 0.3272 - val_loss: 1.6842\n",
            "Epoch 76/100\n",
            "449/449 [==============================] - 130s 289ms/step - loss: 0.3248 - val_loss: 1.6328\n",
            "Epoch 77/100\n",
            "449/449 [==============================] - 130s 289ms/step - loss: 0.3162 - val_loss: 1.6815\n",
            "Epoch 78/100\n",
            "449/449 [==============================] - 130s 289ms/step - loss: 0.3094 - val_loss: 1.6038\n",
            "Epoch 79/100\n",
            "449/449 [==============================] - 130s 289ms/step - loss: 0.3182 - val_loss: 1.6270\n",
            "Epoch 80/100\n",
            "449/449 [==============================] - 129s 288ms/step - loss: 0.3091 - val_loss: 1.6731\n",
            "Epoch 81/100\n",
            "449/449 [==============================] - 130s 289ms/step - loss: 0.3031 - val_loss: 1.6219\n",
            "Epoch 82/100\n",
            "449/449 [==============================] - 130s 289ms/step - loss: 0.2964 - val_loss: 1.7650\n",
            "Epoch 83/100\n",
            "449/449 [==============================] - 129s 288ms/step - loss: 0.2943 - val_loss: 1.7241\n",
            "Epoch 84/100\n",
            "449/449 [==============================] - 130s 290ms/step - loss: 0.3026 - val_loss: 1.6816\n",
            "Epoch 85/100\n",
            "449/449 [==============================] - 131s 291ms/step - loss: 0.2908 - val_loss: 1.6553\n",
            "Epoch 86/100\n",
            "449/449 [==============================] - 132s 294ms/step - loss: 0.2932 - val_loss: 1.6478\n",
            "Epoch 87/100\n",
            "449/449 [==============================] - 131s 291ms/step - loss: 0.2821 - val_loss: 1.7571\n",
            "Epoch 88/100\n",
            "449/449 [==============================] - 130s 290ms/step - loss: 0.2887 - val_loss: 1.6789\n",
            "Epoch 89/100\n",
            "449/449 [==============================] - 130s 289ms/step - loss: 0.2860 - val_loss: 1.7042\n",
            "Epoch 90/100\n",
            "449/449 [==============================] - 130s 290ms/step - loss: 0.2774 - val_loss: 1.7884\n",
            "Epoch 91/100\n",
            "449/449 [==============================] - 130s 290ms/step - loss: 0.2773 - val_loss: 1.7925\n",
            "Epoch 92/100\n",
            "449/449 [==============================] - 130s 290ms/step - loss: 0.2756 - val_loss: 1.7770\n",
            "Epoch 93/100\n",
            "449/449 [==============================] - 130s 290ms/step - loss: 0.2629 - val_loss: 1.7581\n",
            "Epoch 94/100\n",
            "449/449 [==============================] - 130s 290ms/step - loss: 0.2600 - val_loss: 1.6539\n",
            "Epoch 95/100\n",
            "449/449 [==============================] - 130s 289ms/step - loss: 0.2646 - val_loss: 1.7327\n",
            "Epoch 96/100\n",
            "449/449 [==============================] - 130s 289ms/step - loss: 0.2645 - val_loss: 1.7533\n",
            "Epoch 97/100\n",
            "449/449 [==============================] - 131s 291ms/step - loss: 0.2594 - val_loss: 1.7422\n",
            "Epoch 98/100\n",
            "449/449 [==============================] - 131s 291ms/step - loss: 0.2571 - val_loss: 1.8428\n",
            "Epoch 99/100\n",
            "449/449 [==============================] - 131s 291ms/step - loss: 0.2563 - val_loss: 1.7484\n",
            "Epoch 100/100\n",
            "449/449 [==============================] - 131s 291ms/step - loss: 0.2632 - val_loss: 1.8065\n"
          ]
        }
      ],
      "source": [
        "X_test,y_test=preprocess(testing)\n",
        "history = model.fit(X_train, y_train, validation_data=(X_test, y_test),epochs=100, batch_size=64)\n"
      ]
    },
    {
      "cell_type": "markdown",
      "metadata": {
        "id": "fSuKbCT8MJiS"
      },
      "source": [
        "ls command for same as cmd."
      ]
    },
    {
      "cell_type": "code",
      "execution_count": null,
      "metadata": {
        "colab": {
          "base_uri": "https://localhost:8080/"
        },
        "id": "dRkrnPNcwTFL",
        "outputId": "200a7660-6659-4f54-95a7-a5c0a409efe8"
      },
      "outputs": [
        {
          "name": "stdout",
          "output_type": "stream",
          "text": [
            "challenges-in-representation-learning-facial-expression-recognition-challenge.zip\n",
            "example_submission.csv\n",
            "fer2013.tar.gz\n",
            "icml_face_data.csv\n",
            "improve_model1.h5\n",
            "kaggle.json\n",
            "\u001b[0m\u001b[01;34mmydrive\u001b[0m/\n",
            "\u001b[01;34msample_data\u001b[0m/\n",
            "test.csv\n",
            "train.csv\n"
          ]
        }
      ],
      "source": [
        "ls"
      ]
    },
    {
      "cell_type": "markdown",
      "metadata": {
        "id": "UbJIjcimMQe7"
      },
      "source": [
        "Checking where we stand."
      ]
    },
    {
      "cell_type": "code",
      "execution_count": null,
      "metadata": {
        "colab": {
          "base_uri": "https://localhost:8080/"
        },
        "id": "K3aqvF9Av6KH",
        "outputId": "8fd0d1c1-49af-4986-9a6b-bd97ba58022b"
      },
      "outputs": [
        {
          "name": "stdout",
          "output_type": "stream",
          "text": [
            "/content\n"
          ]
        }
      ],
      "source": [
        "!pwd"
      ]
    },
    {
      "cell_type": "markdown",
      "metadata": {
        "id": "cndOsyK_Mb3l"
      },
      "source": [
        "Changing our this on drive so:"
      ]
    },
    {
      "cell_type": "code",
      "execution_count": null,
      "metadata": {
        "colab": {
          "base_uri": "https://localhost:8080/"
        },
        "id": "D1Z52CTuv2-5",
        "outputId": "25643c8a-9f2b-495d-c5c5-22590ebacfc5"
      },
      "outputs": [
        {
          "name": "stdout",
          "output_type": "stream",
          "text": [
            "[Errno 2] No such file or directory: 'MyDrive/AI_Project'\n",
            "/content\n"
          ]
        }
      ],
      "source": [
        "%cd MyDrive/AI_Project"
      ]
    },
    {
      "cell_type": "markdown",
      "metadata": {
        "id": "50Dt1EfAMgnE"
      },
      "source": [
        "Saving weights so that we dont have to spend 5 hours on training again."
      ]
    },
    {
      "cell_type": "code",
      "execution_count": null,
      "metadata": {
        "id": "50rzSNZ4Az4l"
      },
      "outputs": [],
      "source": [
        "#model.save(\"cnn_model\")\n",
        "#model.save(\"80peraccuracy.h5\")"
      ]
    },
    {
      "cell_type": "markdown",
      "metadata": {
        "id": "rA0jrVfiMunl"
      },
      "source": [
        "Now loading those weights. So that we can we can continue from here :)"
      ]
    },
    {
      "cell_type": "code",
      "execution_count": null,
      "metadata": {
        "id": "7WeodeB0rwhy"
      },
      "outputs": [],
      "source": [
        "model.load_weights(\"/content/mydrive/MyDrive/AI_Project/80peraccuracy.h5\")"
      ]
    },
    {
      "cell_type": "markdown",
      "metadata": {
        "id": "5dKmOCjENI7P"
      },
      "source": [
        "After loading we again compile it otherwise we get an error"
      ]
    },
    {
      "cell_type": "code",
      "execution_count": null,
      "metadata": {
        "id": "NJNFuIK723fy"
      },
      "outputs": [],
      "source": [
        "model.compile(optimizer='sgd', loss=tf.keras.losses.CategoricalCrossentropy())"
      ]
    },
    {
      "cell_type": "markdown",
      "metadata": {
        "id": "tIpQu45PNQyz"
      },
      "source": [
        "Now comes the testing phase. Testing is from train, because we don't have labels in test."
      ]
    },
    {
      "cell_type": "code",
      "execution_count": null,
      "metadata": {
        "id": "FEZlaJ8duoii"
      },
      "outputs": [],
      "source": [
        "test_data = pd.read_csv('/content/mydrive/MyDrive/AI_Project/train.csv')"
      ]
    },
    {
      "cell_type": "markdown",
      "metadata": {
        "id": "bdwoSCMLNbDe"
      },
      "source": [
        "ipreprocess for its preprocessing. Printing of things after this cell is just some docs and nothing else."
      ]
    },
    {
      "cell_type": "code",
      "execution_count": null,
      "metadata": {
        "colab": {
          "base_uri": "https://localhost:8080/",
          "height": 87
        },
        "id": "Ivxpa3jcr5_H",
        "outputId": "015226f0-8a13-45ff-d199-3bd4b492cb46"
      },
      "outputs": [
        {
          "data": {
            "application/vnd.google.colaboratory.intrinsic+json": {
              "type": "string"
            },
            "text/plain": [
              "'\\nimg = np.reshape(a[0], (48, 48))\\n#print(img,\"image \")\\n\\nimage = np.zeros((48,48,3))\\nimage[:,:,0] = img\\n#print(image,\\'image 1\\')\\n\\nimage[:,:,1] = img\\n#print(image,\\'image 2\\')\\n\\nimage[:,:,2] = img\\n#print(image,\\'image 3\\')\\n\\nimage = np.array(image.astype(np.uint8))\\n\\nplt.figure(0, figsize=(16,10))\\nplt.imshow(image)\\n\\n# from keras.models import load_model\\n# saved_model = load_model(\"model.h5\")\\n# output = saved_model.predict(img)\\n# print(output)\\n'"
            ]
          },
          "execution_count": 35,
          "metadata": {},
          "output_type": "execute_result"
        }
      ],
      "source": [
        "def ipreprocess(input_data):\n",
        "\n",
        "    input_images = np.zeros(shape=(input_data.shape[0], 48, 48))\n",
        "\n",
        "    for i, row in enumerate(input_data.index):\n",
        "\n",
        "        image = np.fromstring(input_data.loc[row, 'pixels'], dtype=int, sep=' ')\n",
        "\n",
        "        image = np.reshape(image, (48, 48))\n",
        "\n",
        "        input_images[i] = image\n",
        "\n",
        "    input_images = input_images.reshape((input_images.shape[0], 48, 48, 1))\n",
        "\n",
        "    input_images = input_images.astype('float32')/255\n",
        "\n",
        "    input_labels = np.array(list(map(int, input_data['emotion'])))\n",
        "\n",
        "    image_labels = tf.keras.utils.to_categorical(input_labels, 7)\n",
        "\n",
        "    return  input_images, image_labels\n",
        "\n",
        "test_data = pd.read_csv('/content/mydrive/MyDrive/AI_Project/train.csv')\n",
        "a= ipreprocess(test_data)\n",
        "'''\n",
        "img = np.reshape(a[0], (48, 48))\n",
        "#print(img,\"image \")\n",
        "\n",
        "image = np.zeros((48,48,3))\n",
        "image[:,:,0] = img\n",
        "#print(image,'image 1')\n",
        "\n",
        "image[:,:,1] = img\n",
        "#print(image,'image 2')\n",
        "\n",
        "image[:,:,2] = img\n",
        "#print(image,'image 3')\n",
        "\n",
        "image = np.array(image.astype(np.uint8))\n",
        "\n",
        "plt.figure(0, figsize=(16,10))\n",
        "plt.imshow(image)\n",
        "\n",
        "# from keras.models import load_model\n",
        "# saved_model = load_model(\"model.h5\")\n",
        "# output = saved_model.predict(img)\n",
        "# print(output)\n",
        "'''"
      ]
    },
    {
      "cell_type": "markdown",
      "metadata": {
        "id": "CRiRxbugONLe"
      },
      "source": [
        "This is for getting the image for testing. It first make image capable for passing if in the model. Now we cannot pass this image in ipreprocess beacouse this function is for datasets and not for single image. Also displaying the image that what are we getting."
      ]
    },
    {
      "cell_type": "code",
      "execution_count": null,
      "metadata": {
        "colab": {
          "base_uri": "https://localhost:8080/",
          "height": 588
        },
        "id": "e_VpmTkg8Lf5",
        "outputId": "675f76f7-7eb4-4488-86a3-8aead35276f5"
      },
      "outputs": [
        {
          "name": "stdout",
          "output_type": "stream",
          "text": [
            "      emotion                                             pixels\n",
            "9921        3  234 228 223 215 178 165 153 174 166 142 133 14...\n",
            "[[[0. 0. 0. ... 0. 0. 0.]\n",
            "  [0. 0. 0. ... 0. 0. 0.]\n",
            "  [0. 0. 0. ... 0. 0. 0.]\n",
            "  ...\n",
            "  [0. 0. 0. ... 0. 0. 0.]\n",
            "  [0. 0. 0. ... 0. 0. 0.]\n",
            "  [0. 0. 0. ... 0. 0. 0.]]]\n",
            "[234 228 223 ...  14  27  27]\n",
            "[[234 228 223 ... 255 255 255]\n",
            " [214 209 206 ... 255 255 255]\n",
            " [198 197 209 ... 255 255 255]\n",
            " ...\n",
            " [ 44  44  43 ...  15  27  28]\n",
            " [ 42  43  41 ...  14  28  28]\n",
            " [ 40  41  38 ...  14  27  27]]\n",
            "[234 228 223 ...  14  27  27]\n"
          ]
        },
        {
          "data": {
            "text/plain": [
              "Text(0.5, 1.0, 'Happy')"
            ]
          },
          "execution_count": 38,
          "metadata": {},
          "output_type": "execute_result"
        },
        {
          "data": {
            "image/png": "[encoded data removed]",
            "text/plain": [
              "<Figure size 1152x720 with 1 Axes>"
            ]
          },
          "metadata": {
            "needs_background": "light"
          },
          "output_type": "display_data"
        }
      ],
      "source": [
        "plt.figure(0, figsize=(16,10))\n",
        "emotion_num_map=[\"Angry\", \"Disgust\", \"Fear\", \"Happy\", \"Sad\", \"Surprise\", \"Neutral\"]\n",
        "i=3\n",
        "plt.subplot(2,4,i+1)\n",
        "df=test_data\n",
        "emo_df = df[df.emotion==i]\n",
        "#print(emotion_class,\"emotion_class\")\n",
        "#print(emotion_class,\"emotion_class\")\n",
        "#print(emo_df,\"emo_df\")\n",
        "\n",
        "row = emo_df.sample()\n",
        "#print(row)\n",
        "#\n",
        "print(row)\n",
        "input_images = np.zeros(shape=(1, 48, 48))\n",
        "print(input_images)\n",
        "image = np.fromstring(row['pixels'].iloc[0], dtype=int, sep=' ')\n",
        "print(image)\n",
        "image = np.reshape(image, (48, 48))\n",
        "print (image)\n",
        "\n",
        "input_images[0] = image\n",
        "\n",
        "input_images = input_images.reshape((input_images.shape[0], 48, 48, 1))\n",
        "\n",
        "input_images = input_images.astype('float32')/255\n",
        "\n",
        "input_labels = i\n",
        "#print(input_images)\n",
        "\n",
        "#for plotting of things\n",
        "\n",
        "img = np.fromstring(row['pixels'].iloc[0], dtype=int, sep=' ')\n",
        "print(img)\n",
        "\n",
        "test_image = np.reshape(img, (48, 48,1))\n",
        "\n",
        "img = np.reshape(img, (48, 48))\n",
        "#print(img,\"image \")\n",
        "\n",
        "image = np.zeros((48,48,3))\n",
        "\n",
        "image[:,:,0] = img\n",
        "#print(image,'image 1')\n",
        "\n",
        "image[:,:,1] = img\n",
        "#print(image,'image 2')\n",
        "\n",
        "image[:,:,2] = img\n",
        "#print(image,'image 3')\n",
        "\n",
        "image = np.array(image.astype(np.uint8))\n",
        "\n",
        "plt.imshow(image)\n",
        "\n",
        "plt.title( emotion_num_map[i])"
      ]
    },
    {
      "cell_type": "markdown",
      "metadata": {
        "id": "szJdoD48OlkW"
      },
      "source": [
        "Passing the previous image in the prediction to check wheter it is true or not"
      ]
    },
    {
      "cell_type": "code",
      "execution_count": null,
      "metadata": {
        "colab": {
          "base_uri": "https://localhost:8080/"
        },
        "id": "bv39nglR3q5E",
        "outputId": "377a92d6-6cb1-43e3-ba87-7085018c2c05"
      },
      "outputs": [
        {
          "name": "stdout",
          "output_type": "stream",
          "text": [
            "1/1 [==============================] - 1s 607ms/step\n"
          ]
        }
      ],
      "source": [
        "test_the_image = model.predict(input_images)"
      ]
    },
    {
      "cell_type": "markdown",
      "metadata": {
        "id": "_Y1uUsr_OweW"
      },
      "source": [
        "From following we can see that index of happy have the highest value so out model predicted it right."
      ]
    },
    {
      "cell_type": "code",
      "execution_count": null,
      "metadata": {
        "colab": {
          "base_uri": "https://localhost:8080/"
        },
        "id": "Ng277LijsuLV",
        "outputId": "fceff0f1-4826-4d04-98af-86d4f706bf5c"
      },
      "outputs": [
        {
          "name": "stdout",
          "output_type": "stream",
          "text": [
            "[[1.5880559e-03 3.0254338e-07 2.7921051e-04 9.9801314e-01 5.8301921e-05\n",
            "  1.2404131e-05 4.8689115e-05]]\n"
          ]
        }
      ],
      "source": [
        "print(test_the_image)"
      ]
    },
    {
      "cell_type": "markdown",
      "metadata": {
        "id": "mcFHxRfVO6VX"
      },
      "source": [
        "Now checking its accuracy we use evaluation function"
      ]
    },
    {
      "cell_type": "code",
      "execution_count": null,
      "metadata": {
        "id": "D2dNikJEl_eW"
      },
      "outputs": [],
      "source": [
        "test_data = pd.read_csv('/content/mydrive/MyDrive/AI_Project/train.csv')\n",
        "X,Y=ipreprocess(test_data)\n",
        "output=model.evaluate(X, Y, verbose = 0)"
      ]
    },
    {
      "cell_type": "markdown",
      "metadata": {
        "id": "iAuRYcZ4PQHn"
      },
      "source": [
        "Printing accuracy. It will be multiply by 100 to get the percentage."
      ]
    },
    {
      "cell_type": "code",
      "execution_count": null,
      "metadata": {
        "colab": {
          "base_uri": "https://localhost:8080/"
        },
        "id": "_HfimY1onD62",
        "outputId": "48528fc8-968e-4edd-fe3a-8d37bf6a2bc5"
      },
      "outputs": [
        {
          "name": "stdout",
          "output_type": "stream",
          "text": [
            "0.8052910566329956\n"
          ]
        }
      ],
      "source": [
        "print(output)"
      ]
    },
    {
      "cell_type": "markdown",
      "metadata": {
        "id": "NLLFD8uTPV_J"
      },
      "source": [
        "# Now this is for Runtime detection"
      ]
    },
    {
      "cell_type": "code",
      "execution_count": null,
      "metadata": {
        "id": "VOfC26_0nhFE"
      },
      "outputs": [],
      "source": [
        "#initializing \n",
        "import cv2\n",
        "import joblib\n",
        "from numpy import asarray\n",
        "import numpy as np\n",
        "from PIL import Image\n",
        "import pandas as pd\n",
        "import openpyxl"
      ]
    },
    {
      "cell_type": "markdown",
      "metadata": {
        "id": "MEhya1VcPctV"
      },
      "source": [
        "Setting open cv library. and for accessing the camera."
      ]
    },
    {
      "cell_type": "code",
      "execution_count": null,
      "metadata": {
        "id": "LkSRqOAX3VOr"
      },
      "outputs": [],
      "source": [
        "from IPython.display import display, Javascript\n",
        "from google.colab.output import eval_js\n",
        "from base64 import b64decode\n",
        "\n",
        "def take_photo(filename='photo.jpg', quality=0.8):\n",
        "  js = Javascript('''\n",
        "    async function takePhoto(quality) {\n",
        "      const div = document.createElement('div');\n",
        "      const capture = document.createElement('button');\n",
        "      capture.textContent = 'Capture';\n",
        "      div.appendChild(capture);\n",
        "\n",
        "      const video = document.createElement('video');\n",
        "      video.style.display = 'block';\n",
        "      const stream = await navigator.mediaDevices.getUserMedia({video: true});\n",
        "\n",
        "      document.body.appendChild(div);\n",
        "      div.appendChild(video);\n",
        "      video.srcObject = stream;\n",
        "      await video.play();\n",
        "\n",
        "      // Resize the output to fit the video element.\n",
        "      google.colab.output.setIframeHeight(document.documentElement.scrollHeight, true);\n",
        "\n",
        "      // Wait for Capture to be clicked.\n",
        "      await new Promise((resolve) => capture.onclick = resolve);\n",
        "\n",
        "      const canvas = document.createElement('canvas');\n",
        "      canvas.width = video.videoWidth;\n",
        "      canvas.height = video.videoHeight;\n",
        "      canvas.getContext('2d').drawImage(video, 0, 0);\n",
        "      stream.getVideoTracks()[0].stop();\n",
        "      div.remove();\n",
        "      return canvas.toDataURL('image/jpeg', quality);\n",
        "    }\n",
        "    ''')\n",
        "  display(js)\n",
        "  data = eval_js('takePhoto({})'.format(quality))\n",
        "  binary = b64decode(data.split(',')[1])\n",
        "  with open(filename, 'wb') as f:\n",
        "    f.write(binary)\n",
        "  return filename"
      ]
    },
    {
      "cell_type": "code",
      "execution_count": null,
      "metadata": {
        "colab": {
          "base_uri": "https://localhost:8080/",
          "height": 514
        },
        "id": "IqjkGkUTHyFI",
        "outputId": "1ecc20ca-a6f1-4160-8a39-afaec782ba26"
      },
      "outputs": [],
      "source": [
        "from IPython.display import Image\n",
        "try:\n",
        "  filename = take_photo()\n",
        "  print('Saved to {}'.format(filename))\n",
        "  \n",
        "  # Show the image which was just taken.\n",
        "  display(Image(filename))\n",
        "except Exception as err:\n",
        "  # Errors will be thrown if the user does not have a webcam or if they do not\n",
        "  # grant the page permission to access it.\n",
        "  print(str(err))"
      ]
    },
    {
      "cell_type": "markdown",
      "metadata": {
        "id": "PNN4PzgfPx63"
      },
      "source": [
        "detection of faces and some other helping functions."
      ]
    },
    {
      "cell_type": "code",
      "execution_count": null,
      "metadata": {
        "id": "cu6Cdpsvqcdn"
      },
      "outputs": [],
      "source": [
        "face_detector = cv2.CascadeClassifier('/content/mydrive/MyDrive/AI_Project/haarcascade_frontalface_default.xml')\n",
        "def extract_faces(img):\n",
        "    gray = cv2.cvtColor(img, cv2.COLOR_BGR2GRAY)\n",
        "    face_points = face_detector.detectMultiScale(gray, 1.3, 5)\n",
        "    return face_points\n",
        "\n",
        "\n",
        "def identify_face(facearray):\n",
        "    model = joblib.load('/content/mydrive/MyDrive/AI_Project/face_recognition_model.pkl')\n",
        "    return model.predict(facearray)"
      ]
    },
    {
      "cell_type": "markdown",
      "metadata": {
        "id": "alabuMIbP4F6"
      },
      "source": [
        "This code is for pycharm. it will not run on colab. But this is for image capturing."
      ]
    },
    {
      "cell_type": "code",
      "execution_count": null,
      "metadata": {
        "id": "bqve6ovVq9pf"
      },
      "outputs": [],
      "source": [
        "vc = cv2.VideoCapture(0)\n",
        "while vc.isOpened():\n",
        "    ret, frame = vc.read()\n",
        "    cv2.imshow(\"set for a pic\",frame)\n",
        "    if cv2.waitKey(1) == 27:\n",
        "        faces = extract_faces(frame)\n",
        "        print(faces)\n",
        "        if faces != ():\n",
        "            for (x, y, w, h) in faces:\n",
        "                name = '/content/mydrive/MyDrive/AI_Project/pic.jpg'\n",
        "                cv2.imwrite(name, frame[y:y + h, x:x + w])\n",
        "        vc.release()\n",
        "        cv2.destroyAllWindows()\n",
        "        break"
      ]
    },
    {
      "cell_type": "markdown",
      "metadata": {
        "id": "u_6xKUBdQAZX"
      },
      "source": [
        "Accessing webcam and capturing picture."
      ]
    },
    {
      "cell_type": "code",
      "execution_count": null,
      "metadata": {
        "colab": {
          "base_uri": "https://localhost:8080/",
          "height": 514
        },
        "id": "OrHD8FRUN83b",
        "outputId": "a20df8d9-1b7c-47d7-c577-93db316aa9f6"
      },
      "outputs": [],
      "source": [
        "from IPython.display import Image\n",
        "try:\n",
        "  filename = take_photo()\n",
        "  print('Saved to {}'.format(filename))\n",
        "  \n",
        "  \n",
        "  # Show the image which was just taken.\n",
        "  display(Image(filename))\n",
        "  \n",
        "except Exception as err:\n",
        "  # Errors will be thrown if the user does not have a webcam or if they do not\n",
        "  # grant the page permission to access it.\n",
        "  print(str(err))"
      ]
    },
    {
      "cell_type": "markdown",
      "metadata": {
        "id": "1NzNIT31Rm9D"
      },
      "source": [
        "Checking whether we have face in our captured image or not. If not then it will notify you and if detected it will output dimensions and we can run futher cells. Here we can also add existing image. Just change the image name. **NOTE:** Image should be in \"**JPG**\" format"
      ]
    },
    {
      "cell_type": "code",
      "execution_count": null,
      "metadata": {
        "colab": {
          "base_uri": "https://localhost:8080/"
        },
        "id": "0y0t6LgMtZRf",
        "outputId": "0ea26d92-fbdf-4817-daca-188025644c1b"
      },
      "outputs": [
        {
          "name": "stdout",
          "output_type": "stream",
          "text": [
            "[[ 88  82 255 255]]\n",
            "run other cells and these are the faces dimensions\n"
          ]
        },
        {
          "name": "stderr",
          "output_type": "stream",
          "text": [
            "<ipython-input-105-e7110a9e9dfa>:5: DeprecationWarning: elementwise comparison failed; this will raise an error in the future.\n",
            "  if faces==():\n"
          ]
        }
      ],
      "source": [
        "image_name=\"/content/photo.jpg\"\n",
        "frame=cv2.imread(image_name)\n",
        "faces = extract_faces(frame)\n",
        "print(faces)\n",
        "if faces==():\n",
        "  print(\"No face detected in the image, don't run further cells\")\n",
        "else:\n",
        "  for (x, y, w, h) in faces:\n",
        "      print(\"run other cells and these are the faces dimensions\")\n",
        "      name = '/content/mydrive/MyDrive/AI_Project/pic.jpg'\n",
        "      cv2.imwrite(name, frame[y:y + h, x:x + w])"
      ]
    },
    {
      "cell_type": "markdown",
      "metadata": {
        "id": "g2ifwFpvSW2P"
      },
      "source": [
        "Now as the face is detected lets do some preprocessing from on the image and then we will predict the expression. It prints the image shape and image_pixels."
      ]
    },
    {
      "cell_type": "code",
      "execution_count": null,
      "metadata": {
        "colab": {
          "base_uri": "https://localhost:8080/"
        },
        "id": "3Ls54jGnX0kh",
        "outputId": "8f2cae93-b044-4993-a9ec-7fa6f0a92cf8"
      },
      "outputs": [
        {
          "name": "stdout",
          "output_type": "stream",
          "text": [
            "(48, 48)\n",
            "[[[[0.3882353 ]\n",
            "   [0.4       ]\n",
            "   [0.40784314]\n",
            "   ...\n",
            "   [0.6       ]\n",
            "   [0.6156863 ]\n",
            "   [0.6156863 ]]\n",
            "\n",
            "  [[0.4117647 ]\n",
            "   [0.4       ]\n",
            "   [0.39607844]\n",
            "   ...\n",
            "   [0.59607846]\n",
            "   [0.6117647 ]\n",
            "   [0.6156863 ]]\n",
            "\n",
            "  [[0.41568628]\n",
            "   [0.42352942]\n",
            "   [0.4       ]\n",
            "   ...\n",
            "   [0.5411765 ]\n",
            "   [0.5921569 ]\n",
            "   [0.62352943]]\n",
            "\n",
            "  ...\n",
            "\n",
            "  [[0.60784316]\n",
            "   [0.6431373 ]\n",
            "   [0.59607846]\n",
            "   ...\n",
            "   [0.5411765 ]\n",
            "   [0.61960787]\n",
            "   [0.6156863 ]]\n",
            "\n",
            "  [[0.6627451 ]\n",
            "   [0.61960787]\n",
            "   [0.58431375]\n",
            "   ...\n",
            "   [0.5176471 ]\n",
            "   [0.6039216 ]\n",
            "   [0.627451  ]]\n",
            "\n",
            "  [[0.59607846]\n",
            "   [0.5254902 ]\n",
            "   [0.49019608]\n",
            "   ...\n",
            "   [0.5137255 ]\n",
            "   [0.58431375]\n",
            "   [0.60784316]]]]\n"
          ]
        }
      ],
      "source": [
        "img = cv2.imread(\"/content/mydrive/MyDrive/AI_Project/pic.jpg\")\n",
        "img=cv2.cvtColor(img, cv2.COLOR_BGR2GRAY)\n",
        "#reshape the grayscale\n",
        "b=cv2.resize(img,(48,48))\n",
        "print(b.shape)\n",
        "\n",
        "#doing preprocessing\n",
        "input_images = np.zeros(shape=(1, 48, 48))\n",
        "input_images[0] = b\n",
        "input_images = input_images.reshape((input_images.shape[0], 48, 48, 1))\n",
        "input_images = input_images.astype('float32')/255\n",
        "print(input_images)"
      ]
    },
    {
      "cell_type": "markdown",
      "metadata": {
        "id": "qhhnZ-FAUQD_"
      },
      "source": [
        "Now predicting the expression."
      ]
    },
    {
      "cell_type": "code",
      "execution_count": null,
      "metadata": {
        "colab": {
          "base_uri": "https://localhost:8080/"
        },
        "id": "vsqki0z6X8XW",
        "outputId": "92ba8cad-2c66-49d7-c860-45831bfcca05"
      },
      "outputs": [
        {
          "name": "stdout",
          "output_type": "stream",
          "text": [
            "1/1 [==============================] - 0s 25ms/step\n"
          ]
        }
      ],
      "source": [
        "test_the_image = model.predict(input_images)"
      ]
    },
    {
      "cell_type": "markdown",
      "metadata": {
        "id": "dSCduOmGUWF5"
      },
      "source": [
        "Checking what we get in our input."
      ]
    },
    {
      "cell_type": "code",
      "execution_count": null,
      "metadata": {
        "colab": {
          "base_uri": "https://localhost:8080/"
        },
        "id": "XbKaORjAX_pI",
        "outputId": "c628611e-151a-45f3-eaac-f776e2395f3e"
      },
      "outputs": [
        {
          "name": "stdout",
          "output_type": "stream",
          "text": [
            "[[4.0897001e-03 7.9754709e-06 5.7813007e-04 4.2412850e-01 4.4096303e-03\n",
            "  2.3075886e-04 5.6655538e-01]]\n"
          ]
        }
      ],
      "source": [
        "print(test_the_image)"
      ]
    },
    {
      "cell_type": "markdown",
      "metadata": {
        "id": "-zBOCxc_UqrH"
      },
      "source": [
        "Now the above input is a little tricky and calculating, Lets easy things using numpy. And instead of printing whole list of calculation why not just print the maximum expression. So simplifing things. :)"
      ]
    },
    {
      "cell_type": "code",
      "execution_count": null,
      "metadata": {
        "colab": {
          "base_uri": "https://localhost:8080/"
        },
        "id": "xDQs3UOLowOd",
        "outputId": "0cf7b8a9-7ef3-4c3f-8237-abd64f268510"
      },
      "outputs": [
        {
          "name": "stdout",
          "output_type": "stream",
          "text": [
            "Neutral\n"
          ]
        }
      ],
      "source": [
        "index_of_expression=np.where(test_the_image[0] == np.max(test_the_image[0]))\n",
        "emotion_num_map=[\"Angry\", \"Disgust\", \"Fear\", \"Happy\", \"Sad\", \"Surprise\", \"Neutral\"]\n",
        "print(emotion_num_map[index_of_expression[0][0]])"
      ]
    }
  ],
  "metadata": {
    "colab": {
      "provenance": []
    },
    "kernelspec": {
      "display_name": "Python 3",
      "name": "python3"
    },
    "language_info": {
      "name": "python"
    }
  },
  "nbformat": 4,
  "nbformat_minor": 0
}
